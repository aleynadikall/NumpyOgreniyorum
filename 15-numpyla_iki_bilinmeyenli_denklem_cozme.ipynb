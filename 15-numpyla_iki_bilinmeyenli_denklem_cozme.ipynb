{
 "cells": [
  {
   "cell_type": "markdown",
   "id": "964896f5-8165-4e6f-9807-ad42fcd5745b",
   "metadata": {},
   "source": [
    "### Numpy Ile Iki Bilinmeyenli Denklem Cozme:"
   ]
  },
  {
   "cell_type": "code",
   "execution_count": 1,
   "id": "0748ceb0-dce0-4da9-8d4c-cc51c61e7a02",
   "metadata": {},
   "outputs": [],
   "source": [
    "import numpy as np"
   ]
  },
  {
   "cell_type": "markdown",
   "id": "26a27680-508b-471b-be91-39ac2533cf50",
   "metadata": {},
   "source": [
    "###### **5 * x0 + x1 = 12**\n",
    "###### **x0 + 3 * x1 = 10**"
   ]
  },
  {
   "cell_type": "code",
   "execution_count": 2,
   "id": "34127534-64eb-48c9-8ddc-bb8ecb0b8c28",
   "metadata": {},
   "outputs": [],
   "source": [
    "a = np.array([[5,1], [1,3]])\n",
    "b = np.array([12, 10])"
   ]
  },
  {
   "cell_type": "code",
   "execution_count": 3,
   "id": "2a8199c5-73b5-478a-a97c-a65e003e8a3f",
   "metadata": {},
   "outputs": [
    {
     "data": {
      "text/plain": [
       "array([[5, 1],\n",
       "       [1, 3]])"
      ]
     },
     "execution_count": 3,
     "metadata": {},
     "output_type": "execute_result"
    }
   ],
   "source": [
    "a"
   ]
  },
  {
   "cell_type": "code",
   "execution_count": 4,
   "id": "33b1d285-484e-4869-b37a-86c15e5d4d88",
   "metadata": {},
   "outputs": [
    {
     "data": {
      "text/plain": [
       "array([12, 10])"
      ]
     },
     "execution_count": 4,
     "metadata": {},
     "output_type": "execute_result"
    }
   ],
   "source": [
    "b"
   ]
  },
  {
   "cell_type": "code",
   "execution_count": 5,
   "id": "89dc4495-c780-4d08-bc1d-26b502d26d64",
   "metadata": {},
   "outputs": [
    {
     "data": {
      "text/plain": [
       "array([1.85714286, 2.71428571])"
      ]
     },
     "execution_count": 5,
     "metadata": {},
     "output_type": "execute_result"
    }
   ],
   "source": [
    "x = np.linalg.solve(a, b)\n",
    "x"
   ]
  },
  {
   "cell_type": "code",
   "execution_count": null,
   "id": "cc7d7b48-2776-4eac-915a-4c1f675c68a2",
   "metadata": {},
   "outputs": [],
   "source": []
  },
  {
   "cell_type": "code",
   "execution_count": null,
   "id": "41843cb5-2069-4074-8cc8-a703b046ae50",
   "metadata": {},
   "outputs": [],
   "source": []
  },
  {
   "cell_type": "code",
   "execution_count": null,
   "id": "84b61882-efe8-4624-bde7-a198c7221771",
   "metadata": {},
   "outputs": [],
   "source": []
  }
 ],
 "metadata": {
  "kernelspec": {
   "display_name": "Python 3 (ipykernel)",
   "language": "python",
   "name": "python3"
  },
  "language_info": {
   "codemirror_mode": {
    "name": "ipython",
    "version": 3
   },
   "file_extension": ".py",
   "mimetype": "text/x-python",
   "name": "python",
   "nbconvert_exporter": "python",
   "pygments_lexer": "ipython3",
   "version": "3.9.7"
  }
 },
 "nbformat": 4,
 "nbformat_minor": 5
}
