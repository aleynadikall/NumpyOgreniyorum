{
 "cells": [
  {
   "cell_type": "markdown",
   "id": "a5641117-44b8-47e7-accb-ef818154665c",
   "metadata": {},
   "source": [
    "### NUMPY ARRAY'I OLUSTURMAK"
   ]
  },
  {
   "cell_type": "code",
   "execution_count": 1,
   "id": "0f3f81a5-cf3f-40eb-9769-255bf715c911",
   "metadata": {},
   "outputs": [],
   "source": [
    "import numpy as np"
   ]
  },
  {
   "cell_type": "code",
   "execution_count": 3,
   "id": "709e47d9-f3b6-4d38-86ee-3b6c1614c8b5",
   "metadata": {},
   "outputs": [
    {
     "data": {
      "text/plain": [
       "array([1, 2, 3, 4, 5])"
      ]
     },
     "execution_count": 3,
     "metadata": {},
     "output_type": "execute_result"
    }
   ],
   "source": [
    "np.array([1,2,3,4,5])"
   ]
  },
  {
   "cell_type": "code",
   "execution_count": 4,
   "id": "b3cbfe54-a41e-4401-b635-a3840002ea89",
   "metadata": {},
   "outputs": [],
   "source": [
    "a = np.array([1,2,3,4,5])"
   ]
  },
  {
   "cell_type": "code",
   "execution_count": 5,
   "id": "71aae438-19f3-454b-b1ea-b78e414ee339",
   "metadata": {},
   "outputs": [
    {
     "data": {
      "text/plain": [
       "numpy.ndarray"
      ]
     },
     "execution_count": 5,
     "metadata": {},
     "output_type": "execute_result"
    }
   ],
   "source": [
    "type(a)"
   ]
  },
  {
   "cell_type": "markdown",
   "id": "bc9da023-b52a-4816-a7da-b04fd2ec4db3",
   "metadata": {},
   "source": [
    "Sabit tip baskisinin sonucu:"
   ]
  },
  {
   "cell_type": "code",
   "execution_count": 6,
   "id": "029f295e-4f57-4f0d-93e3-cdaafc82805d",
   "metadata": {},
   "outputs": [
    {
     "data": {
      "text/plain": [
       "array([ 3.14,  4.  ,  2.  , 13.  ])"
      ]
     },
     "execution_count": 6,
     "metadata": {},
     "output_type": "execute_result"
    }
   ],
   "source": [
    "np.array([3.14,4,2,13])"
   ]
  },
  {
   "cell_type": "markdown",
   "id": "258f6bbd-be98-47db-8778-e36b6116135c",
   "metadata": {},
   "source": [
    "Peki bunu ayarlayamaz miyiz?"
   ]
  },
  {
   "cell_type": "code",
   "execution_count": 8,
   "id": "0096403d-8463-4147-bdaa-bc4f0b1b9c1a",
   "metadata": {},
   "outputs": [
    {
     "data": {
      "text/plain": [
       "array([ 3.14,  4.  ,  2.  , 13.  ], dtype=float32)"
      ]
     },
     "execution_count": 8,
     "metadata": {},
     "output_type": "execute_result"
    }
   ],
   "source": [
    "np.array([3.14,4,2,13],dtype = \"float32\")"
   ]
  },
  {
   "cell_type": "code",
   "execution_count": 9,
   "id": "25a0321d-43de-478f-a57a-2b27935e059e",
   "metadata": {},
   "outputs": [
    {
     "data": {
      "text/plain": [
       "array([ 3,  4,  2, 13])"
      ]
     },
     "execution_count": 9,
     "metadata": {},
     "output_type": "execute_result"
    }
   ],
   "source": [
    "np.array([3.14,4,2,13],dtype = \"int\")"
   ]
  },
  {
   "cell_type": "markdown",
   "id": "310ca165-dd47-4942-a73b-d2f0f2a118d0",
   "metadata": {},
   "source": [
    "Sifirdan array olusturma islemleri:"
   ]
  },
  {
   "cell_type": "markdown",
   "id": "25329a2b-d384-41b1-9785-4c84c4f64c9e",
   "metadata": {},
   "source": [
    "Tek boyutlu(vektor) bir arraydir:"
   ]
  },
  {
   "cell_type": "code",
   "execution_count": 12,
   "id": "101c8563-7fb4-4e61-bc00-ff7bc8dd3555",
   "metadata": {},
   "outputs": [
    {
     "data": {
      "text/plain": [
       "array([0, 0, 0, 0, 0, 0, 0, 0, 0, 0])"
      ]
     },
     "execution_count": 12,
     "metadata": {},
     "output_type": "execute_result"
    }
   ],
   "source": [
    "np.zeros(10,dtype = int)"
   ]
  },
  {
   "cell_type": "markdown",
   "id": "c899c8f8-a83a-4de1-9b96-43f77cb42f08",
   "metadata": {},
   "source": [
    "Matematiksel anlamda matris, iki boyutlu array:"
   ]
  },
  {
   "cell_type": "code",
   "execution_count": 16,
   "id": "f5eba739-c7d3-4d13-928a-e8499e92aea4",
   "metadata": {},
   "outputs": [
    {
     "data": {
      "text/plain": [
       "array([[1, 1, 1, 1, 1],\n",
       "       [1, 1, 1, 1, 1],\n",
       "       [1, 1, 1, 1, 1]])"
      ]
     },
     "execution_count": 16,
     "metadata": {},
     "output_type": "execute_result"
    }
   ],
   "source": [
    "np.ones((3,5),dtype = int)"
   ]
  },
  {
   "cell_type": "code",
   "execution_count": 17,
   "id": "3acb22a7-87cb-4efd-9663-e8df462ecdf5",
   "metadata": {},
   "outputs": [
    {
     "data": {
      "text/plain": [
       "array([[3, 3, 3, 3, 3],\n",
       "       [3, 3, 3, 3, 3],\n",
       "       [3, 3, 3, 3, 3]])"
      ]
     },
     "execution_count": 17,
     "metadata": {},
     "output_type": "execute_result"
    }
   ],
   "source": [
    "np.full((3,5),3)"
   ]
  },
  {
   "cell_type": "markdown",
   "id": "38ee7fe6-e53e-43a1-ac51-69f433542fc2",
   "metadata": {},
   "source": [
    "Dogrusal dizi olsuturma:"
   ]
  },
  {
   "cell_type": "code",
   "execution_count": 21,
   "id": "b0d9031f-0ebb-46fa-9e76-ea8bbabd732b",
   "metadata": {},
   "outputs": [
    {
     "data": {
      "text/plain": [
       "array([ 0,  3,  6,  9, 12, 15, 18, 21, 24, 27, 30])"
      ]
     },
     "execution_count": 21,
     "metadata": {},
     "output_type": "execute_result"
    }
   ],
   "source": [
    "np.arange(0,31,3)"
   ]
  },
  {
   "cell_type": "code",
   "execution_count": 22,
   "id": "e49f4bc1-cd27-424d-b8d4-656c2ff80bbc",
   "metadata": {},
   "outputs": [
    {
     "data": {
      "text/plain": [
       "array([0.        , 0.11111111, 0.22222222, 0.33333333, 0.44444444,\n",
       "       0.55555556, 0.66666667, 0.77777778, 0.88888889, 1.        ])"
      ]
     },
     "execution_count": 22,
     "metadata": {},
     "output_type": "execute_result"
    }
   ],
   "source": [
    "np.linspace(0,1,10)"
   ]
  },
  {
   "cell_type": "markdown",
   "id": "a11d98df-6762-4de9-a26a-f3222d6e9559",
   "metadata": {},
   "source": [
    "Ortalaması=10 standart sapması=4 olan 3 e 4 lük bir array olusturabiliriz:"
   ]
  },
  {
   "cell_type": "code",
   "execution_count": 23,
   "id": "c5e2fbd3-92e0-45de-a1be-fc0ea0b085b5",
   "metadata": {},
   "outputs": [
    {
     "data": {
      "text/plain": [
       "array([[11.53566247, 12.61851191,  7.53509467, 15.24376866],\n",
       "       [ 9.51351498,  4.28106778,  3.6659734 , 10.41545476],\n",
       "       [13.28437456, 15.52782286,  8.09803966,  8.97485107]])"
      ]
     },
     "execution_count": 23,
     "metadata": {},
     "output_type": "execute_result"
    }
   ],
   "source": [
    "np.random.normal(10,4,(3,4))"
   ]
  },
  {
   "cell_type": "code",
   "execution_count": 24,
   "id": "46a1c58a-a38f-4dce-abcb-2bae78623eca",
   "metadata": {},
   "outputs": [
    {
     "data": {
      "text/plain": [
       "array([[7, 0, 5],\n",
       "       [1, 2, 8],\n",
       "       [3, 7, 5]])"
      ]
     },
     "execution_count": 24,
     "metadata": {},
     "output_type": "execute_result"
    }
   ],
   "source": [
    "np.random.randint(0,10,(3,3))"
   ]
  },
  {
   "cell_type": "code",
   "execution_count": null,
   "id": "ab81624b-e743-4f9c-908a-25da479d9d67",
   "metadata": {},
   "outputs": [],
   "source": []
  }
 ],
 "metadata": {
  "kernelspec": {
   "display_name": "Python 3 (ipykernel)",
   "language": "python",
   "name": "python3"
  },
  "language_info": {
   "codemirror_mode": {
    "name": "ipython",
    "version": 3
   },
   "file_extension": ".py",
   "mimetype": "text/x-python",
   "name": "python",
   "nbconvert_exporter": "python",
   "pygments_lexer": "ipython3",
   "version": "3.9.7"
  }
 },
 "nbformat": 4,
 "nbformat_minor": 5
}
