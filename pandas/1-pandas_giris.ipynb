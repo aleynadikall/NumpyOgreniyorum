{
 "cells": [
  {
   "cell_type": "markdown",
   "id": "3c768030-3834-4264-9482-f0cc1db7be44",
   "metadata": {},
   "source": [
    "* Pandas panel data'nın kısaltılmışıdır.\n",
    "* Numpy'ı kullanarak daha genişletilmiş konularda çalışmamıza imkan sağlar.\n",
    "* Veri manipülasyonu ve veri analizi için yazılmış açık kaynak kodlu bir Python kütüphanesidir.\n",
    "* Ekonometrik ve finansal çalışmalar için doğmuştur.\n",
    "* Birçok farklı veri tipini okuma ve yazma imkanı sağlar."
   ]
  },
  {
   "cell_type": "code",
   "execution_count": null,
   "id": "aff0a430-5af6-4e9f-a235-3dfb9324641f",
   "metadata": {},
   "outputs": [],
   "source": []
  }
 ],
 "metadata": {
  "kernelspec": {
   "display_name": "Python 3 (ipykernel)",
   "language": "python",
   "name": "python3"
  },
  "language_info": {
   "codemirror_mode": {
    "name": "ipython",
    "version": 3
   },
   "file_extension": ".py",
   "mimetype": "text/x-python",
   "name": "python",
   "nbconvert_exporter": "python",
   "pygments_lexer": "ipython3",
   "version": "3.9.7"
  }
 },
 "nbformat": 4,
 "nbformat_minor": 5
}
