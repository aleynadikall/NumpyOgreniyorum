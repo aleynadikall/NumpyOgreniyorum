{
 "cells": [
  {
   "cell_type": "markdown",
   "id": "f7616096-c96a-4bce-ac62-d5b39b2d39c0",
   "metadata": {},
   "source": [
    "### BONUS: Problem çözme ve döküman okuma kültürü:"
   ]
  },
  {
   "cell_type": "markdown",
   "id": "2060af68-470d-46bd-845e-54867432c6dc",
   "metadata": {},
   "source": [
    "* Kod yazarken bir hata aldığımızı varsayalım:"
   ]
  },
  {
   "cell_type": "code",
   "execution_count": 1,
   "id": "858f2264-f901-4665-a944-29227b4079dc",
   "metadata": {},
   "outputs": [
    {
     "ename": "ZeroDivisionError",
     "evalue": "division by zero",
     "output_type": "error",
     "traceback": [
      "\u001b[1;31m---------------------------------------------------------------------------\u001b[0m",
      "\u001b[1;31mZeroDivisionError\u001b[0m                         Traceback (most recent call last)",
      "\u001b[1;32m~\\AppData\\Local\\Temp/ipykernel_16268/761053603.py\u001b[0m in \u001b[0;36m<module>\u001b[1;34m\u001b[0m\n\u001b[1;32m----> 1\u001b[1;33m \u001b[1;36m9\u001b[0m \u001b[1;33m/\u001b[0m \u001b[1;36m0\u001b[0m\u001b[1;33m\u001b[0m\u001b[1;33m\u001b[0m\u001b[0m\n\u001b[0m",
      "\u001b[1;31mZeroDivisionError\u001b[0m: division by zero"
     ]
    }
   ],
   "source": [
    "9 / 0"
   ]
  },
  {
   "cell_type": "markdown",
   "id": "38fcdfcf-f5b7-40ae-a616-0225771b7d91",
   "metadata": {},
   "source": [
    "* ZeroDivisionError: division by zero hatasını googleda aratıyoruz"
   ]
  },
  {
   "cell_type": "markdown",
   "id": "4c1af231-0533-493d-8aa8-b732c0d14fbc",
   "metadata": {},
   "source": [
    "* İlgili bilgilere stackoverflowdan ulaşabilirsin."
   ]
  },
  {
   "cell_type": "markdown",
   "id": "b30821fe-3bd7-44b4-8262-15f2b5666126",
   "metadata": {},
   "source": [
    "* Dökümentasyon için de googlea pandas documentation yazıp ilk çıkan sayfaya tıklıyoruz."
   ]
  },
  {
   "cell_type": "markdown",
   "id": "05f2e15e-1d14-4d54-ac7a-2ba291ef4059",
   "metadata": {},
   "source": [
    "* İhtiyac duyduğumuz her şeye googledan erişebiliriz."
   ]
  },
  {
   "cell_type": "code",
   "execution_count": null,
   "id": "7e5a2af7-ae03-472a-b0d0-489047c3ec33",
   "metadata": {},
   "outputs": [],
   "source": []
  }
 ],
 "metadata": {
  "kernelspec": {
   "display_name": "Python 3 (ipykernel)",
   "language": "python",
   "name": "python3"
  },
  "language_info": {
   "codemirror_mode": {
    "name": "ipython",
    "version": 3
   },
   "file_extension": ".py",
   "mimetype": "text/x-python",
   "name": "python",
   "nbconvert_exporter": "python",
   "pygments_lexer": "ipython3",
   "version": "3.9.7"
  }
 },
 "nbformat": 4,
 "nbformat_minor": 5
}
