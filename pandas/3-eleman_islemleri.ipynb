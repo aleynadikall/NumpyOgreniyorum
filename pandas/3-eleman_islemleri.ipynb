{
 "cells": [
  {
   "cell_type": "markdown",
   "id": "35f0c1b3-9a5e-4f7d-a315-a8448c5715b7",
   "metadata": {},
   "source": [
    "### Elemanlara Erişmek"
   ]
  },
  {
   "cell_type": "code",
   "execution_count": 2,
   "id": "5228ca04-cdfe-4b0b-a651-7ce5b6192a96",
   "metadata": {},
   "outputs": [
    {
     "data": {
      "text/plain": [
       "0      1\n",
       "1      2\n",
       "2     33\n",
       "3    444\n",
       "4     75\n",
       "dtype: int32"
      ]
     },
     "execution_count": 2,
     "metadata": {},
     "output_type": "execute_result"
    }
   ],
   "source": [
    "import numpy as np\n",
    "import pandas as pd\n",
    "a = np.array([1,2,33,444,75])\n",
    "seri = pd.Series(a)\n",
    "seri"
   ]
  },
  {
   "cell_type": "code",
   "execution_count": 3,
   "id": "5eff2988-7176-42fc-8c11-6c7598fae98b",
   "metadata": {},
   "outputs": [
    {
     "data": {
      "text/plain": [
       "1"
      ]
     },
     "execution_count": 3,
     "metadata": {},
     "output_type": "execute_result"
    }
   ],
   "source": [
    "seri[0]"
   ]
  },
  {
   "cell_type": "code",
   "execution_count": 4,
   "id": "67f31fb5-b9e1-42df-89bb-14ed82e2a072",
   "metadata": {},
   "outputs": [
    {
     "data": {
      "text/plain": [
       "0     1\n",
       "1     2\n",
       "2    33\n",
       "dtype: int32"
      ]
     },
     "execution_count": 4,
     "metadata": {},
     "output_type": "execute_result"
    }
   ],
   "source": [
    "seri[0:3]"
   ]
  },
  {
   "cell_type": "code",
   "execution_count": 9,
   "id": "3993dcb1-f081-4fc0-a122-a9ea5531f5e0",
   "metadata": {},
   "outputs": [],
   "source": [
    "seri = pd.Series([121,200,150,99], \n",
    "                 index = {\"reg\",\"loj\",\"cart\",\"rf\"})"
   ]
  },
  {
   "cell_type": "code",
   "execution_count": 10,
   "id": "49c4bd81-1b44-46a9-901d-3ede108b9169",
   "metadata": {},
   "outputs": [
    {
     "data": {
      "text/plain": [
       "loj     121\n",
       "cart    200\n",
       "reg     150\n",
       "rf       99\n",
       "dtype: int64"
      ]
     },
     "execution_count": 10,
     "metadata": {},
     "output_type": "execute_result"
    }
   ],
   "source": [
    "seri"
   ]
  },
  {
   "cell_type": "code",
   "execution_count": 11,
   "id": "706859a5-5587-4bd2-9243-01d3f753b20a",
   "metadata": {},
   "outputs": [
    {
     "data": {
      "text/plain": [
       "Index(['loj', 'cart', 'reg', 'rf'], dtype='object')"
      ]
     },
     "execution_count": 11,
     "metadata": {},
     "output_type": "execute_result"
    }
   ],
   "source": [
    "seri.index"
   ]
  },
  {
   "cell_type": "code",
   "execution_count": 12,
   "id": "0bdc5690-bd11-4cea-b35e-55eb613b5b92",
   "metadata": {},
   "outputs": [
    {
     "data": {
      "text/plain": [
       "<bound method Series.keys of loj     121\n",
       "cart    200\n",
       "reg     150\n",
       "rf       99\n",
       "dtype: int64>"
      ]
     },
     "execution_count": 12,
     "metadata": {},
     "output_type": "execute_result"
    }
   ],
   "source": [
    "seri.keys"
   ]
  },
  {
   "cell_type": "code",
   "execution_count": 13,
   "id": "2e759f91-f357-4b83-9663-61c6b23d5c51",
   "metadata": {},
   "outputs": [
    {
     "data": {
      "text/plain": [
       "[('loj', 121), ('cart', 200), ('reg', 150), ('rf', 99)]"
      ]
     },
     "execution_count": 13,
     "metadata": {},
     "output_type": "execute_result"
    }
   ],
   "source": [
    "list(seri.items())"
   ]
  },
  {
   "cell_type": "code",
   "execution_count": 14,
   "id": "1089d50e-e163-4a5d-a2fc-c93fc3f81b33",
   "metadata": {},
   "outputs": [
    {
     "data": {
      "text/plain": [
       "array([121, 200, 150,  99], dtype=int64)"
      ]
     },
     "execution_count": 14,
     "metadata": {},
     "output_type": "execute_result"
    }
   ],
   "source": [
    "seri.values"
   ]
  },
  {
   "cell_type": "markdown",
   "id": "87644e39-71c0-4ee6-b4f0-05628fa9040c",
   "metadata": {},
   "source": [
    "* Eleman Sorgulama"
   ]
  },
  {
   "cell_type": "code",
   "execution_count": 15,
   "id": "8d64b8cf-7247-42f9-b537-0e80140f24a7",
   "metadata": {},
   "outputs": [
    {
     "data": {
      "text/plain": [
       "True"
      ]
     },
     "execution_count": 15,
     "metadata": {},
     "output_type": "execute_result"
    }
   ],
   "source": [
    "\"reg\" in seri"
   ]
  },
  {
   "cell_type": "code",
   "execution_count": 16,
   "id": "0bf0b32d-d9b1-484f-8928-458453b6d751",
   "metadata": {},
   "outputs": [
    {
     "data": {
      "text/plain": [
       "150"
      ]
     },
     "execution_count": 16,
     "metadata": {},
     "output_type": "execute_result"
    }
   ],
   "source": [
    "seri[\"reg\"]"
   ]
  },
  {
   "cell_type": "markdown",
   "id": "c20e5fec-a10e-49c9-a556-d62273ff19df",
   "metadata": {},
   "source": [
    "* Fancy Eleman"
   ]
  },
  {
   "cell_type": "code",
   "execution_count": 17,
   "id": "f2843eba-e983-406e-b042-daac22abaf8c",
   "metadata": {},
   "outputs": [
    {
     "data": {
      "text/plain": [
       "rf      99\n",
       "reg    150\n",
       "dtype: int64"
      ]
     },
     "execution_count": 17,
     "metadata": {},
     "output_type": "execute_result"
    }
   ],
   "source": [
    "seri[[\"rf\",\"reg\"]]"
   ]
  },
  {
   "cell_type": "code",
   "execution_count": 18,
   "id": "4b8e14d1-a8f7-45f1-8347-98c17916083e",
   "metadata": {},
   "outputs": [],
   "source": [
    "seri[\"reg\"] = 130"
   ]
  },
  {
   "cell_type": "code",
   "execution_count": 20,
   "id": "0028dc1f-c350-4c46-b034-5a9f0039b90f",
   "metadata": {},
   "outputs": [
    {
     "data": {
      "text/plain": [
       "130"
      ]
     },
     "execution_count": 20,
     "metadata": {},
     "output_type": "execute_result"
    }
   ],
   "source": [
    "seri[\"reg\"]"
   ]
  },
  {
   "cell_type": "code",
   "execution_count": 28,
   "id": "e4842e16-6222-4363-925e-796c26eb027f",
   "metadata": {},
   "outputs": [
    {
     "data": {
      "text/plain": [
       "Series([], dtype: int64)"
      ]
     },
     "execution_count": 28,
     "metadata": {},
     "output_type": "execute_result"
    }
   ],
   "source": [
    "seri = pd.Series([121,200,150,99], \n",
    "                 index = {\"reg\",\"loj\",\"cart\",\"rf\"})\n",
    "seri['reg': 'loj']"
   ]
  },
  {
   "cell_type": "code",
   "execution_count": null,
   "id": "50d0f038-584e-4ca4-bc2a-b7532886b306",
   "metadata": {},
   "outputs": [],
   "source": []
  }
 ],
 "metadata": {
  "kernelspec": {
   "display_name": "Python 3 (ipykernel)",
   "language": "python",
   "name": "python3"
  },
  "language_info": {
   "codemirror_mode": {
    "name": "ipython",
    "version": 3
   },
   "file_extension": ".py",
   "mimetype": "text/x-python",
   "name": "python",
   "nbconvert_exporter": "python",
   "pygments_lexer": "ipython3",
   "version": "3.9.7"
  }
 },
 "nbformat": 4,
 "nbformat_minor": 5
}
