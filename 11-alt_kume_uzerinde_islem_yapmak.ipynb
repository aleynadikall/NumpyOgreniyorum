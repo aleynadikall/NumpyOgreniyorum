{
 "cells": [
  {
   "cell_type": "markdown",
   "id": "7ba0263a-7bee-479f-b96a-0e435a01372d",
   "metadata": {},
   "source": [
    "### Alt Kume uzerinde islem yapmak "
   ]
  },
  {
   "cell_type": "code",
   "execution_count": 2,
   "id": "4b27bee4-5979-49b9-936f-bf4b648ca445",
   "metadata": {},
   "outputs": [
    {
     "data": {
      "text/plain": [
       "array([[4, 2, 4, 5, 2],\n",
       "       [2, 2, 2, 7, 9],\n",
       "       [1, 7, 7, 5, 5],\n",
       "       [8, 9, 4, 2, 6],\n",
       "       [6, 9, 5, 5, 0]])"
      ]
     },
     "execution_count": 2,
     "metadata": {},
     "output_type": "execute_result"
    }
   ],
   "source": [
    "import numpy as np\n",
    "a = np.random.randint(10,size = (5,5))\n",
    "a"
   ]
  },
  {
   "cell_type": "markdown",
   "id": "93a1d1ce-46e1-4c03-9f46-d32aac4f1493",
   "metadata": {},
   "source": [
    "Bir arrayin alt kumesine eristirdikten sonra isimlendirip kaydettigimizi dusunelim. Kaydedilen bu arrayde degisiklik yaptigimizda arrayin ilk halinde de degisiklik olmaktadir. Bazi durumlarda bu degisikligin olmasini istemeyiz.Bu tip durumlarda alt kumeleri bagimszilastirmak denilen birislem yapmamiz gerekmektedir."
   ]
  },
  {
   "cell_type": "code",
   "execution_count": 4,
   "id": "5f8f3bce-f74c-47e8-aa24-d15123b1da30",
   "metadata": {},
   "outputs": [
    {
     "data": {
      "text/plain": [
       "array([[4, 2],\n",
       "       [2, 2],\n",
       "       [1, 7]])"
      ]
     },
     "execution_count": 4,
     "metadata": {},
     "output_type": "execute_result"
    }
   ],
   "source": [
    "alt_a = a[0:3, 0:2]\n",
    "alt_a"
   ]
  },
  {
   "cell_type": "code",
   "execution_count": 5,
   "id": "e62b5dcd-9207-416c-aa81-97d6f64c04e5",
   "metadata": {},
   "outputs": [],
   "source": [
    "alt_a[0,0] = 9999\n",
    "alt_a[1,1] = 888"
   ]
  },
  {
   "cell_type": "code",
   "execution_count": 6,
   "id": "77d63196-9800-4790-ad9b-83426412da10",
   "metadata": {},
   "outputs": [
    {
     "data": {
      "text/plain": [
       "array([[9999,    2],\n",
       "       [   2,  888],\n",
       "       [   1,    7]])"
      ]
     },
     "execution_count": 6,
     "metadata": {},
     "output_type": "execute_result"
    }
   ],
   "source": [
    "alt_a"
   ]
  },
  {
   "cell_type": "code",
   "execution_count": 7,
   "id": "37a7505f-dd72-438a-abc9-60696f9f4563",
   "metadata": {},
   "outputs": [
    {
     "data": {
      "text/plain": [
       "array([[9999,    2,    4,    5,    2],\n",
       "       [   2,  888,    2,    7,    9],\n",
       "       [   1,    7,    7,    5,    5],\n",
       "       [   8,    9,    4,    2,    6],\n",
       "       [   6,    9,    5,    5,    0]])"
      ]
     },
     "execution_count": 7,
     "metadata": {},
     "output_type": "execute_result"
    }
   ],
   "source": [
    "a"
   ]
  },
  {
   "cell_type": "markdown",
   "id": "daf6603d-e022-4864-9150-c7e441e0bd79",
   "metadata": {},
   "source": [
    "alt_a'da yapilan bir degisiklik hem alt_a'da hem de a'da meydana geldi."
   ]
  },
  {
   "cell_type": "markdown",
   "id": "047a3826-1c29-425d-8224-e8ec11304711",
   "metadata": {},
   "source": [
    "Bunu engellemek icin copy isimli bir metod kullaniriz."
   ]
  },
  {
   "cell_type": "code",
   "execution_count": 8,
   "id": "1285ca62-1329-496e-828b-a59cf34c4487",
   "metadata": {},
   "outputs": [
    {
     "data": {
      "text/plain": [
       "array([[6, 3, 7, 8, 6],\n",
       "       [5, 9, 4, 8, 0],\n",
       "       [6, 8, 0, 7, 2],\n",
       "       [7, 7, 6, 1, 8],\n",
       "       [9, 2, 1, 1, 3]])"
      ]
     },
     "execution_count": 8,
     "metadata": {},
     "output_type": "execute_result"
    }
   ],
   "source": [
    "m = np.random.randint(10,size = (5,5))\n",
    "m"
   ]
  },
  {
   "cell_type": "code",
   "execution_count": 9,
   "id": "a54ac936-17af-49ef-8420-bf9c5ec66ee7",
   "metadata": {},
   "outputs": [
    {
     "data": {
      "text/plain": [
       "array([[6, 3],\n",
       "       [5, 9],\n",
       "       [6, 8]])"
      ]
     },
     "execution_count": 9,
     "metadata": {},
     "output_type": "execute_result"
    }
   ],
   "source": [
    "alt_b = m[0:3, 0:2].copy()\n",
    "alt_b"
   ]
  },
  {
   "cell_type": "code",
   "execution_count": 11,
   "id": "0ceceb2b-6255-4508-b055-55fe4b804276",
   "metadata": {},
   "outputs": [
    {
     "data": {
      "text/plain": [
       "array([[9999,    3],\n",
       "       [   5,    9],\n",
       "       [   6,    8]])"
      ]
     },
     "execution_count": 11,
     "metadata": {},
     "output_type": "execute_result"
    }
   ],
   "source": [
    "alt_b[0,0] = 9999\n",
    "alt_b"
   ]
  },
  {
   "cell_type": "code",
   "execution_count": 12,
   "id": "8de534ff-be86-4579-9e20-5bb8507908a9",
   "metadata": {},
   "outputs": [
    {
     "data": {
      "text/plain": [
       "array([[6, 3, 7, 8, 6],\n",
       "       [5, 9, 4, 8, 0],\n",
       "       [6, 8, 0, 7, 2],\n",
       "       [7, 7, 6, 1, 8],\n",
       "       [9, 2, 1, 1, 3]])"
      ]
     },
     "execution_count": 12,
     "metadata": {},
     "output_type": "execute_result"
    }
   ],
   "source": [
    "m"
   ]
  },
  {
   "cell_type": "markdown",
   "id": "0f10660f-2580-44aa-8c73-9d8989e97fb8",
   "metadata": {},
   "source": [
    "oLusturulan ilk arrayin yapisinda bir degisiklik meydana gelmemis oldu."
   ]
  },
  {
   "cell_type": "code",
   "execution_count": null,
   "id": "5df722d5-14f2-4efc-8f32-6252277a07e4",
   "metadata": {},
   "outputs": [],
   "source": []
  }
 ],
 "metadata": {
  "kernelspec": {
   "display_name": "Python 3 (ipykernel)",
   "language": "python",
   "name": "python3"
  },
  "language_info": {
   "codemirror_mode": {
    "name": "ipython",
    "version": 3
   },
   "file_extension": ".py",
   "mimetype": "text/x-python",
   "name": "python",
   "nbconvert_exporter": "python",
   "pygments_lexer": "ipython3",
   "version": "3.9.7"
  }
 },
 "nbformat": 4,
 "nbformat_minor": 5
}
