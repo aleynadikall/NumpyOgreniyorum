{
 "cells": [
  {
   "cell_type": "code",
   "execution_count": null,
   "id": "fb5c4556-0188-4821-82d9-20e9ccfe9eb5",
   "metadata": {},
   "outputs": [],
   "source": [
    "#Notebooklar hucre denilen yapilardan olusur."
   ]
  },
  {
   "cell_type": "code",
   "execution_count": null,
   "id": "82cf94c6-8021-4a1e-b6ca-f562522e199f",
   "metadata": {},
   "outputs": [],
   "source": [
    "#Markdown kodlarimizi zengin bir sekilde olusturma imkani saglayan bir calisma ortamidir.\n",
    "#Code kismi ise python script tarafidir. Kodlarin run eidlip calistirildigi yerdir."
   ]
  },
  {
   "cell_type": "code",
   "execution_count": 2,
   "id": "ec23cc74-255f-44e5-8c58-9a7d92588da9",
   "metadata": {},
   "outputs": [
    {
     "name": "stdout",
     "output_type": "stream",
     "text": [
      "a\n"
     ]
    }
   ],
   "source": [
    "print(\"a\")"
   ]
  },
  {
   "cell_type": "markdown",
   "id": "a64e1658-e975-40f2-8948-5b4d7f2f0857",
   "metadata": {
    "tags": []
   },
   "source": [
    "Merhaba\n",
    "\n",
    "herhangi baska seyler de yazilabilir."
   ]
  },
  {
   "cell_type": "code",
   "execution_count": 3,
   "id": "25033c12-2e7b-44e7-a1e5-7daf2ef5fced",
   "metadata": {},
   "outputs": [
    {
     "ename": "NameError",
     "evalue": "name 'Merhaba' is not defined",
     "output_type": "error",
     "traceback": [
      "\u001b[1;31m---------------------------------------------------------------------------\u001b[0m",
      "\u001b[1;31mNameError\u001b[0m                                 Traceback (most recent call last)",
      "\u001b[1;32m~\\AppData\\Local\\Temp/ipykernel_9688/4196964795.py\u001b[0m in \u001b[0;36m<module>\u001b[1;34m\u001b[0m\n\u001b[1;32m----> 1\u001b[1;33m \u001b[0mMerhaba\u001b[0m\u001b[1;33m\u001b[0m\u001b[1;33m\u001b[0m\u001b[0m\n\u001b[0m",
      "\u001b[1;31mNameError\u001b[0m: name 'Merhaba' is not defined"
     ]
    }
   ],
   "source": [
    "Merhaba"
   ]
  },
  {
   "cell_type": "code",
   "execution_count": null,
   "id": "ddbb46d0-29f3-4eaf-81ba-321e902dc55e",
   "metadata": {},
   "outputs": [],
   "source": [
    "#Markdown kisminda direkt merhaba yazarsak kod calisir ancak code kisminda hata aliriz."
   ]
  },
  {
   "cell_type": "markdown",
   "id": "048b0a81-9fb1-4866-93c7-d13fc3c80cc9",
   "metadata": {},
   "source": [
    "_italik_\n",
    "**kalin**"
   ]
  },
  {
   "cell_type": "code",
   "execution_count": null,
   "id": "c7b63768-7c58-4fe2-a43a-a1a1d03782b2",
   "metadata": {},
   "outputs": [],
   "source": [
    "#Markdown bolumu notlarimizi yazmak icin kullanacagiz."
   ]
  }
 ],
 "metadata": {
  "kernelspec": {
   "display_name": "Python 3 (ipykernel)",
   "language": "python",
   "name": "python3"
  },
  "language_info": {
   "codemirror_mode": {
    "name": "ipython",
    "version": 3
   },
   "file_extension": ".py",
   "mimetype": "text/x-python",
   "name": "python",
   "nbconvert_exporter": "python",
   "pygments_lexer": "ipython3",
   "version": "3.9.7"
  }
 },
 "nbformat": 4,
 "nbformat_minor": 5
}
