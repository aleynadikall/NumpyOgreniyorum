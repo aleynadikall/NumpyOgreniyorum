{
 "cells": [
  {
   "cell_type": "markdown",
   "id": "d2d7d275-64e8-40f7-a45f-ae5943760481",
   "metadata": {},
   "source": [
    "### Array ayirma (splitting):"
   ]
  },
  {
   "cell_type": "markdown",
   "id": "75fc5b0f-5525-4e3b-ba0a-f17d73129489",
   "metadata": {},
   "source": [
    "1-Tek boyutlu array ayirma:"
   ]
  },
  {
   "cell_type": "code",
   "execution_count": 1,
   "id": "b0fcab0c-9d2e-43c2-acac-9489d4984b59",
   "metadata": {},
   "outputs": [],
   "source": [
    "import numpy as np"
   ]
  },
  {
   "cell_type": "code",
   "execution_count": 2,
   "id": "aa6a7096-ddeb-4dc7-9f52-70d449c6124d",
   "metadata": {},
   "outputs": [],
   "source": [
    "x = np.array([1,2,3,4,99,99,3,2,1])"
   ]
  },
  {
   "cell_type": "markdown",
   "id": "01592b83-7c56-40f6-b18d-ed79e5e11684",
   "metadata": {},
   "source": [
    "Yapisi bilinen arrayleri basit ayirmak icin kullanilir."
   ]
  },
  {
   "cell_type": "code",
   "execution_count": 3,
   "id": "93dd1ccd-a9ce-47d3-be1c-51a31972cdf4",
   "metadata": {},
   "outputs": [
    {
     "data": {
      "text/plain": [
       "[array([1, 2, 3]), array([ 4, 99]), array([99,  3,  2,  1])]"
      ]
     },
     "execution_count": 3,
     "metadata": {},
     "output_type": "execute_result"
    }
   ],
   "source": [
    "np.split(x, [3,5])"
   ]
  },
  {
   "cell_type": "markdown",
   "id": "e29f4e35-7567-42ce-81c9-d83197ef6672",
   "metadata": {},
   "source": [
    "Ayirdigimiz herbir arrayi yakalayip ayri bir array olarak kullanmak istersek ne yapacagiz/nasil saklayacagiz?"
   ]
  },
  {
   "cell_type": "code",
   "execution_count": 4,
   "id": "17742fe1-23d5-4a7c-91f3-79468d60b441",
   "metadata": {},
   "outputs": [],
   "source": [
    "a,b,c = np.split(x,[3,5])"
   ]
  },
  {
   "cell_type": "code",
   "execution_count": 5,
   "id": "0f5b2f67-bdae-4c2d-9fb5-5a1a62c8fbba",
   "metadata": {},
   "outputs": [
    {
     "data": {
      "text/plain": [
       "array([1, 2, 3])"
      ]
     },
     "execution_count": 5,
     "metadata": {},
     "output_type": "execute_result"
    }
   ],
   "source": [
    "a"
   ]
  },
  {
   "cell_type": "code",
   "execution_count": 6,
   "id": "987ef5bf-354e-4a59-a1de-38286cf33156",
   "metadata": {},
   "outputs": [
    {
     "data": {
      "text/plain": [
       "array([ 4, 99])"
      ]
     },
     "execution_count": 6,
     "metadata": {},
     "output_type": "execute_result"
    }
   ],
   "source": [
    "b"
   ]
  },
  {
   "cell_type": "code",
   "execution_count": 7,
   "id": "480c6ec3-7cff-4043-a25a-5394a7396796",
   "metadata": {},
   "outputs": [
    {
     "data": {
      "text/plain": [
       "array([99,  3,  2,  1])"
      ]
     },
     "execution_count": 7,
     "metadata": {},
     "output_type": "execute_result"
    }
   ],
   "source": [
    "c"
   ]
  },
  {
   "cell_type": "markdown",
   "id": "9491fa68-b43c-4b11-ba06-6f0e53e2472d",
   "metadata": {},
   "source": [
    "2-Iki boyutlu array ayirma:"
   ]
  },
  {
   "cell_type": "code",
   "execution_count": 8,
   "id": "21c4405e-3981-4a6a-bdfe-4de1db767c54",
   "metadata": {},
   "outputs": [
    {
     "data": {
      "text/plain": [
       "array([[ 0,  1,  2,  3],\n",
       "       [ 4,  5,  6,  7],\n",
       "       [ 8,  9, 10, 11],\n",
       "       [12, 13, 14, 15]])"
      ]
     },
     "execution_count": 8,
     "metadata": {},
     "output_type": "execute_result"
    }
   ],
   "source": [
    "m= np.arange(16).reshape(4,4)\n",
    "m"
   ]
  },
  {
   "cell_type": "markdown",
   "id": "73caa349-8221-4d26-b817-b40eb15d56b3",
   "metadata": {},
   "source": [
    "2.satirdan sonraki kismi bolup **dikey** olarak yana eklemek istedigimizi dusunelim:"
   ]
  },
  {
   "cell_type": "code",
   "execution_count": 9,
   "id": "e688b443-2bac-4ed4-adb6-68e50cba2482",
   "metadata": {},
   "outputs": [
    {
     "data": {
      "text/plain": [
       "[array([[0, 1, 2, 3],\n",
       "        [4, 5, 6, 7]]),\n",
       " array([[ 8,  9, 10, 11],\n",
       "        [12, 13, 14, 15]])]"
      ]
     },
     "execution_count": 9,
     "metadata": {},
     "output_type": "execute_result"
    }
   ],
   "source": [
    "np.vsplit(m,[2])"
   ]
  },
  {
   "cell_type": "code",
   "execution_count": 10,
   "id": "f8e6a9c3-854e-4346-85c9-8021d467f83d",
   "metadata": {},
   "outputs": [],
   "source": [
    "ust,alt = np.vsplit(m,[2])"
   ]
  },
  {
   "cell_type": "code",
   "execution_count": 11,
   "id": "f9ecdb62-3f7d-4ff6-a4f1-c37b24ea6275",
   "metadata": {},
   "outputs": [
    {
     "data": {
      "text/plain": [
       "array([[0, 1, 2, 3],\n",
       "       [4, 5, 6, 7]])"
      ]
     },
     "execution_count": 11,
     "metadata": {},
     "output_type": "execute_result"
    }
   ],
   "source": [
    "ust"
   ]
  },
  {
   "cell_type": "code",
   "execution_count": 12,
   "id": "d8da7f90-2d7d-4e20-bc14-e71fd931b4fc",
   "metadata": {},
   "outputs": [
    {
     "data": {
      "text/plain": [
       "array([[ 8,  9, 10, 11],\n",
       "       [12, 13, 14, 15]])"
      ]
     },
     "execution_count": 12,
     "metadata": {},
     "output_type": "execute_result"
    }
   ],
   "source": [
    "alt"
   ]
  },
  {
   "cell_type": "markdown",
   "id": "18e2fd33-ad0a-4af8-871d-1af30b697c80",
   "metadata": {},
   "source": [
    "**Yatay** sekilde:"
   ]
  },
  {
   "cell_type": "code",
   "execution_count": 13,
   "id": "d1a0a306-27a4-48fb-83d5-696f73229470",
   "metadata": {},
   "outputs": [
    {
     "data": {
      "text/plain": [
       "array([[ 0,  1,  2,  3],\n",
       "       [ 4,  5,  6,  7],\n",
       "       [ 8,  9, 10, 11],\n",
       "       [12, 13, 14, 15]])"
      ]
     },
     "execution_count": 13,
     "metadata": {},
     "output_type": "execute_result"
    }
   ],
   "source": [
    "m"
   ]
  },
  {
   "cell_type": "code",
   "execution_count": 14,
   "id": "1c9f7e0e-5d77-4fa3-ad16-3897d4434111",
   "metadata": {},
   "outputs": [
    {
     "data": {
      "text/plain": [
       "[array([[ 0,  1],\n",
       "        [ 4,  5],\n",
       "        [ 8,  9],\n",
       "        [12, 13]]),\n",
       " array([[ 2,  3],\n",
       "        [ 6,  7],\n",
       "        [10, 11],\n",
       "        [14, 15]])]"
      ]
     },
     "execution_count": 14,
     "metadata": {},
     "output_type": "execute_result"
    }
   ],
   "source": [
    "np.hsplit(m,[2])"
   ]
  },
  {
   "cell_type": "code",
   "execution_count": 15,
   "id": "59a7eccb-2ffc-4c50-bd08-571458e52273",
   "metadata": {},
   "outputs": [],
   "source": [
    "sag,sol = np.hsplit(m,[2])"
   ]
  },
  {
   "cell_type": "code",
   "execution_count": 16,
   "id": "6ae44db3-2aa3-43fa-bbcb-ad0ad83896c7",
   "metadata": {},
   "outputs": [
    {
     "data": {
      "text/plain": [
       "array([[ 0,  1],\n",
       "       [ 4,  5],\n",
       "       [ 8,  9],\n",
       "       [12, 13]])"
      ]
     },
     "execution_count": 16,
     "metadata": {},
     "output_type": "execute_result"
    }
   ],
   "source": [
    "sag"
   ]
  },
  {
   "cell_type": "code",
   "execution_count": 18,
   "id": "6ca835ae-197d-4873-99ff-817cde27281f",
   "metadata": {},
   "outputs": [
    {
     "data": {
      "text/plain": [
       "array([[ 2,  3],\n",
       "       [ 6,  7],\n",
       "       [10, 11],\n",
       "       [14, 15]])"
      ]
     },
     "execution_count": 18,
     "metadata": {},
     "output_type": "execute_result"
    }
   ],
   "source": [
    "sol"
   ]
  },
  {
   "cell_type": "code",
   "execution_count": null,
   "id": "03c9549a-6369-415c-a3e1-37080aeb27c6",
   "metadata": {},
   "outputs": [],
   "source": []
  }
 ],
 "metadata": {
  "kernelspec": {
   "display_name": "Python 3 (ipykernel)",
   "language": "python",
   "name": "python3"
  },
  "language_info": {
   "codemirror_mode": {
    "name": "ipython",
    "version": 3
   },
   "file_extension": ".py",
   "mimetype": "text/x-python",
   "name": "python",
   "nbconvert_exporter": "python",
   "pygments_lexer": "ipython3",
   "version": "3.9.7"
  }
 },
 "nbformat": 4,
 "nbformat_minor": 5
}
