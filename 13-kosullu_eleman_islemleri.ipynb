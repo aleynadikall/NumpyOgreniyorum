{
 "cells": [
  {
   "cell_type": "markdown",
   "id": "3dff570a-4425-4321-ad35-bacc3a253167",
   "metadata": {},
   "source": [
    "### Kosullu Eleman Islemleri"
   ]
  },
  {
   "cell_type": "code",
   "execution_count": 1,
   "id": "a3035be9-c742-4c75-bc48-52177536f1b5",
   "metadata": {},
   "outputs": [],
   "source": [
    "import numpy as np\n",
    "v = np.array([1,2,3,4,5])"
   ]
  },
  {
   "cell_type": "code",
   "execution_count": 2,
   "id": "f98da195-b796-4717-9d44-bfb986536868",
   "metadata": {},
   "outputs": [
    {
     "data": {
      "text/plain": [
       "array([False, False, False, False, False])"
      ]
     },
     "execution_count": 2,
     "metadata": {},
     "output_type": "execute_result"
    }
   ],
   "source": [
    "v > 5"
   ]
  },
  {
   "cell_type": "code",
   "execution_count": 6,
   "id": "71737723-bdcb-4fe9-b77d-61d0169efe5b",
   "metadata": {},
   "outputs": [
    {
     "data": {
      "text/plain": [
       "array([ True,  True, False, False, False])"
      ]
     },
     "execution_count": 6,
     "metadata": {},
     "output_type": "execute_result"
    }
   ],
   "source": [
    "v < 3"
   ]
  },
  {
   "cell_type": "markdown",
   "id": "31bfa322-9838-4854-a04f-d542b3347cea",
   "metadata": {},
   "source": [
    "Bu kisimda yine fancy devreye giriyor:"
   ]
  },
  {
   "cell_type": "code",
   "execution_count": 7,
   "id": "28e35108-f636-4059-ac9c-db03738847cc",
   "metadata": {},
   "outputs": [
    {
     "data": {
      "text/plain": [
       "array([1, 2])"
      ]
     },
     "execution_count": 7,
     "metadata": {},
     "output_type": "execute_result"
    }
   ],
   "source": [
    "v[v < 3]"
   ]
  },
  {
   "cell_type": "code",
   "execution_count": 9,
   "id": "bfe54f79-859d-493a-becc-880b98812fe5",
   "metadata": {},
   "outputs": [
    {
     "data": {
      "text/plain": [
       "array([1, 2, 3])"
      ]
     },
     "execution_count": 9,
     "metadata": {},
     "output_type": "execute_result"
    }
   ],
   "source": [
    "v[v <= 3]"
   ]
  },
  {
   "cell_type": "code",
   "execution_count": 10,
   "id": "6787ffca-94dc-475e-abe2-bee110edf0bb",
   "metadata": {},
   "outputs": [
    {
     "data": {
      "text/plain": [
       "array([3, 4, 5])"
      ]
     },
     "execution_count": 10,
     "metadata": {},
     "output_type": "execute_result"
    }
   ],
   "source": [
    "v[v >= 3]"
   ]
  },
  {
   "cell_type": "code",
   "execution_count": 11,
   "id": "829d6e81-a16c-4323-9ff8-6a5873ae4bbe",
   "metadata": {},
   "outputs": [
    {
     "data": {
      "text/plain": [
       "array([3])"
      ]
     },
     "execution_count": 11,
     "metadata": {},
     "output_type": "execute_result"
    }
   ],
   "source": [
    "v[v == 3]"
   ]
  },
  {
   "cell_type": "code",
   "execution_count": 12,
   "id": "902f23dd-aec6-4a96-a7f9-d1eb45584f0a",
   "metadata": {},
   "outputs": [
    {
     "data": {
      "text/plain": [
       "array([1, 2, 4, 5])"
      ]
     },
     "execution_count": 12,
     "metadata": {},
     "output_type": "execute_result"
    }
   ],
   "source": [
    "v[v != 3]"
   ]
  },
  {
   "cell_type": "code",
   "execution_count": 13,
   "id": "5db6a6d7-77a7-430a-a158-046be1e7ac41",
   "metadata": {},
   "outputs": [
    {
     "data": {
      "text/plain": [
       "array([ 2,  4,  6,  8, 10])"
      ]
     },
     "execution_count": 13,
     "metadata": {},
     "output_type": "execute_result"
    }
   ],
   "source": [
    "v*2"
   ]
  },
  {
   "cell_type": "code",
   "execution_count": 14,
   "id": "700a8b57-35a7-485a-9f84-c1e3f28cdb69",
   "metadata": {},
   "outputs": [
    {
     "data": {
      "text/plain": [
       "array([0.2, 0.4, 0.6, 0.8, 1. ])"
      ]
     },
     "execution_count": 14,
     "metadata": {},
     "output_type": "execute_result"
    }
   ],
   "source": [
    "v/5"
   ]
  },
  {
   "cell_type": "code",
   "execution_count": 15,
   "id": "e0769b24-443e-4b63-970a-b28749347e25",
   "metadata": {},
   "outputs": [
    {
     "data": {
      "text/plain": [
       "array([0.5, 1. , 1.5, 2. , 2.5])"
      ]
     },
     "execution_count": 15,
     "metadata": {},
     "output_type": "execute_result"
    }
   ],
   "source": [
    "v*5/10"
   ]
  },
  {
   "cell_type": "code",
   "execution_count": 16,
   "id": "abc8196d-6720-4e52-b7be-e0def093dfca",
   "metadata": {},
   "outputs": [
    {
     "data": {
      "text/plain": [
       "array([ 1,  4,  9, 16, 25], dtype=int32)"
      ]
     },
     "execution_count": 16,
     "metadata": {},
     "output_type": "execute_result"
    }
   ],
   "source": [
    "v**2"
   ]
  },
  {
   "cell_type": "code",
   "execution_count": null,
   "id": "a13d5ec7-feac-4504-82a1-d9685732b07d",
   "metadata": {},
   "outputs": [],
   "source": []
  }
 ],
 "metadata": {
  "kernelspec": {
   "display_name": "Python 3 (ipykernel)",
   "language": "python",
   "name": "python3"
  },
  "language_info": {
   "codemirror_mode": {
    "name": "ipython",
    "version": 3
   },
   "file_extension": ".py",
   "mimetype": "text/x-python",
   "name": "python",
   "nbconvert_exporter": "python",
   "pygments_lexer": "ipython3",
   "version": "3.9.7"
  }
 },
 "nbformat": 4,
 "nbformat_minor": 5
}
