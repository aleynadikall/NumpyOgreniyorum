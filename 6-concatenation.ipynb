{
 "cells": [
  {
   "cell_type": "markdown",
   "id": "0bff5af8-4a7d-41ba-9b8a-498eedf0138f",
   "metadata": {},
   "source": [
    "### Array birlestirme (concatenation)"
   ]
  },
  {
   "cell_type": "code",
   "execution_count": 1,
   "id": "64ee9149-2246-4b19-9c04-603d2e9b1b62",
   "metadata": {},
   "outputs": [],
   "source": [
    "import numpy as np"
   ]
  },
  {
   "cell_type": "markdown",
   "id": "8ab01d15-adfc-47cf-b0ea-051f9b2d8e83",
   "metadata": {},
   "source": [
    "Tek boyut uzerinde birlestirme:"
   ]
  },
  {
   "cell_type": "code",
   "execution_count": 2,
   "id": "3d89b83e-f509-4ef6-9a00-92eafbccffb9",
   "metadata": {},
   "outputs": [],
   "source": [
    "x = np.array([1,2,3,])\n",
    "y = np.array([4,5,6])"
   ]
  },
  {
   "cell_type": "code",
   "execution_count": 4,
   "id": "dfc137b5-6dcf-42d6-b189-df7413d7bea0",
   "metadata": {},
   "outputs": [
    {
     "data": {
      "text/plain": [
       "array([1, 2, 3, 4, 5, 6])"
      ]
     },
     "execution_count": 4,
     "metadata": {},
     "output_type": "execute_result"
    }
   ],
   "source": [
    "np.concatenate([x,y])"
   ]
  },
  {
   "cell_type": "code",
   "execution_count": 5,
   "id": "d29368cc-94ba-4b96-ab33-f6947f68eb0b",
   "metadata": {},
   "outputs": [],
   "source": [
    "z = np.array([7,8,9])"
   ]
  },
  {
   "cell_type": "code",
   "execution_count": 6,
   "id": "072a2889-aada-46fc-93a9-587230608498",
   "metadata": {},
   "outputs": [
    {
     "data": {
      "text/plain": [
       "array([1, 2, 3, 4, 5, 6, 7, 8, 9])"
      ]
     },
     "execution_count": 6,
     "metadata": {},
     "output_type": "execute_result"
    }
   ],
   "source": [
    "np.concatenate([x,y,z])"
   ]
  },
  {
   "cell_type": "markdown",
   "id": "2161f93f-ae3f-4664-8408-c2991e2eb466",
   "metadata": {},
   "source": [
    "Iki boyut uzerinde birlestirme:"
   ]
  },
  {
   "cell_type": "code",
   "execution_count": 8,
   "id": "940328d0-5e64-4fb0-9846-0518418653a9",
   "metadata": {},
   "outputs": [],
   "source": [
    "a = np.array([[1,2,3],\n",
    "              [4,5,6]])"
   ]
  },
  {
   "cell_type": "code",
   "execution_count": 9,
   "id": "c229ac3b-f1a9-4c3b-aafe-cc3d4514ae81",
   "metadata": {},
   "outputs": [
    {
     "data": {
      "text/plain": [
       "array([[1, 2, 3],\n",
       "       [4, 5, 6],\n",
       "       [1, 2, 3],\n",
       "       [4, 5, 6]])"
      ]
     },
     "execution_count": 9,
     "metadata": {},
     "output_type": "execute_result"
    }
   ],
   "source": [
    "np.concatenate([a,a])"
   ]
  },
  {
   "cell_type": "markdown",
   "id": "331c7d51-eb8b-4d17-848b-5f37473a8269",
   "metadata": {},
   "source": [
    "Peki satir bazinda degil de sutun bazinda birlestirmek istersek:"
   ]
  },
  {
   "cell_type": "code",
   "execution_count": 10,
   "id": "e8f8beb5-f6b5-4320-817a-f58780db6738",
   "metadata": {},
   "outputs": [
    {
     "data": {
      "text/plain": [
       "array([[1, 2, 3],\n",
       "       [4, 5, 6],\n",
       "       [1, 2, 3],\n",
       "       [4, 5, 6]])"
      ]
     },
     "execution_count": 10,
     "metadata": {},
     "output_type": "execute_result"
    }
   ],
   "source": [
    "np.concatenate([a,a],axis = 0)"
   ]
  },
  {
   "cell_type": "code",
   "execution_count": 11,
   "id": "2ecedb55-f21e-433c-a14b-cbd51525639e",
   "metadata": {},
   "outputs": [
    {
     "data": {
      "text/plain": [
       "array([[1, 2, 3, 1, 2, 3],\n",
       "       [4, 5, 6, 4, 5, 6]])"
      ]
     },
     "execution_count": 11,
     "metadata": {},
     "output_type": "execute_result"
    }
   ],
   "source": [
    "np.concatenate([a,a],axis = 1)"
   ]
  },
  {
   "cell_type": "code",
   "execution_count": null,
   "id": "0375ab65-d9c5-4615-9ee2-3eaeee19cda2",
   "metadata": {},
   "outputs": [],
   "source": []
  }
 ],
 "metadata": {
  "kernelspec": {
   "display_name": "Python 3 (ipykernel)",
   "language": "python",
   "name": "python3"
  },
  "language_info": {
   "codemirror_mode": {
    "name": "ipython",
    "version": 3
   },
   "file_extension": ".py",
   "mimetype": "text/x-python",
   "name": "python",
   "nbconvert_exporter": "python",
   "pygments_lexer": "ipython3",
   "version": "3.9.7"
  }
 },
 "nbformat": 4,
 "nbformat_minor": 5
}
