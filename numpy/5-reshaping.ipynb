{
 "cells": [
  {
   "cell_type": "markdown",
   "id": "de4d74df-05be-4005-954b-a57d14684d97",
   "metadata": {},
   "source": [
    "### Yeniden sekillendirme (reshaping)"
   ]
  },
  {
   "cell_type": "code",
   "execution_count": 2,
   "id": "a2b7b1f4-8b08-46ca-b73b-262567e77f8e",
   "metadata": {},
   "outputs": [],
   "source": [
    "import numpy as np"
   ]
  },
  {
   "cell_type": "code",
   "execution_count": 3,
   "id": "332406e5-04ed-4169-8f72-820d709c7568",
   "metadata": {},
   "outputs": [
    {
     "data": {
      "text/plain": [
       "array([1, 2, 3, 4, 5, 6, 7, 8, 9])"
      ]
     },
     "execution_count": 3,
     "metadata": {},
     "output_type": "execute_result"
    }
   ],
   "source": [
    "np.arange(1,10)"
   ]
  },
  {
   "cell_type": "markdown",
   "id": "41148a35-4d29-41f8-a536-2cfe491c3058",
   "metadata": {},
   "source": [
    "Elimizde 1'den 10'a kadar olan sayilardan olusan bir array oldugunu dusunelim. Amacimizin bu arrayin uzerinden 3x3'luk array olusturmak oldugunu dusunelim:"
   ]
  },
  {
   "cell_type": "code",
   "execution_count": 4,
   "id": "4f30af0e-9fb9-4ee1-8038-e7df15ffa7ac",
   "metadata": {},
   "outputs": [
    {
     "data": {
      "text/plain": [
       "array([[1, 2, 3],\n",
       "       [4, 5, 6],\n",
       "       [7, 8, 9]])"
      ]
     },
     "execution_count": 4,
     "metadata": {},
     "output_type": "execute_result"
    }
   ],
   "source": [
    "np.arange(1,10).reshape((3,3))"
   ]
  },
  {
   "cell_type": "code",
   "execution_count": 5,
   "id": "a8cef93b-1fb2-4e3b-a48a-76a50d711ee0",
   "metadata": {},
   "outputs": [],
   "source": [
    "a =np.arange(1,10)"
   ]
  },
  {
   "cell_type": "code",
   "execution_count": 6,
   "id": "a8b736a7-1bb2-4f94-94ca-9387d8aa008d",
   "metadata": {},
   "outputs": [
    {
     "data": {
      "text/plain": [
       "array([1, 2, 3, 4, 5, 6, 7, 8, 9])"
      ]
     },
     "execution_count": 6,
     "metadata": {},
     "output_type": "execute_result"
    }
   ],
   "source": [
    "a"
   ]
  },
  {
   "cell_type": "code",
   "execution_count": 7,
   "id": "e3c44022-1cc1-41aa-93f1-4ce4a68356a8",
   "metadata": {},
   "outputs": [
    {
     "data": {
      "text/plain": [
       "1"
      ]
     },
     "execution_count": 7,
     "metadata": {},
     "output_type": "execute_result"
    }
   ],
   "source": [
    "a.ndim"
   ]
  },
  {
   "cell_type": "markdown",
   "id": "3b56810e-f96c-4abb-a2ef-c5b81462a96b",
   "metadata": {},
   "source": [
    "Elimizdeki tek boyutlu arrayi(vektoru) iki boyutlu arraye(matrise) donusturmek istiyoruz ama o tek boyuttaki bilgisi de oldugu sekliyle kalsin."
   ]
  },
  {
   "cell_type": "code",
   "execution_count": 8,
   "id": "2405e3d8-1739-4e6d-85b4-a9e8389fefd1",
   "metadata": {},
   "outputs": [
    {
     "data": {
      "text/plain": [
       "array([[1, 2, 3, 4, 5, 6, 7, 8, 9]])"
      ]
     },
     "execution_count": 8,
     "metadata": {},
     "output_type": "execute_result"
    }
   ],
   "source": [
    "a.reshape((1,9))"
   ]
  },
  {
   "cell_type": "markdown",
   "id": "8c7e980f-283e-4ebd-af29-e270e6613fbb",
   "metadata": {},
   "source": [
    "6 ve 8 hucrelerindeki arraylerin tek farki birisi tek koseli parantez icerisinde birisi ise iki koseli parantez icerisinde yer almaktadir."
   ]
  },
  {
   "cell_type": "code",
   "execution_count": 9,
   "id": "9000d14e-2df4-45ea-bdfa-4d2375de1c3d",
   "metadata": {},
   "outputs": [],
   "source": [
    "b = a.reshape((1,9))"
   ]
  },
  {
   "cell_type": "code",
   "execution_count": 10,
   "id": "f1f5e697-f311-4bae-866a-aded847c125e",
   "metadata": {},
   "outputs": [
    {
     "data": {
      "text/plain": [
       "array([[1, 2, 3, 4, 5, 6, 7, 8, 9]])"
      ]
     },
     "execution_count": 10,
     "metadata": {},
     "output_type": "execute_result"
    }
   ],
   "source": [
    "b"
   ]
  },
  {
   "cell_type": "code",
   "execution_count": 11,
   "id": "3ec9487a-29ee-4566-82bb-60108a887781",
   "metadata": {},
   "outputs": [
    {
     "data": {
      "text/plain": [
       "2"
      ]
     },
     "execution_count": 11,
     "metadata": {},
     "output_type": "execute_result"
    }
   ],
   "source": [
    "b.ndim"
   ]
  },
  {
   "cell_type": "markdown",
   "id": "13ae2959-2ed4-4fe9-aecd-610d5ea02af3",
   "metadata": {},
   "source": [
    "boyut bilgisini bize 2 verir cunku artik bir matristir."
   ]
  },
  {
   "cell_type": "code",
   "execution_count": null,
   "id": "8a9599b1-d8f2-476b-a275-81d4c9e6bb5f",
   "metadata": {},
   "outputs": [],
   "source": []
  }
 ],
 "metadata": {
  "kernelspec": {
   "display_name": "Python 3 (ipykernel)",
   "language": "python",
   "name": "python3"
  },
  "language_info": {
   "codemirror_mode": {
    "name": "ipython",
    "version": 3
   },
   "file_extension": ".py",
   "mimetype": "text/x-python",
   "name": "python",
   "nbconvert_exporter": "python",
   "pygments_lexer": "ipython3",
   "version": "3.9.7"
  }
 },
 "nbformat": 4,
 "nbformat_minor": 5
}
