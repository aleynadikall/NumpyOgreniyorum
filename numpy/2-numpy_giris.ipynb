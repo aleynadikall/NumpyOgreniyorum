{
 "cells": [
  {
   "cell_type": "markdown",
   "id": "5da98bbe-35a6-4572-bbad-6098642c74f2",
   "metadata": {},
   "source": [
    "Numpy pythonin bazi numerik islemlerde yetersiz kaldigi noktalarda ihhtiyaclarimizi gidermek icin kullandigimiz bir moduldur/kutuphanedir."
   ]
  },
  {
   "cell_type": "markdown",
   "id": "86bfa8e9-c67d-40ea-913f-111c6d5ab7ae",
   "metadata": {},
   "source": [
    "Numerical Python ifadesinin kisaltilmisidir.\n",
    "Bilimsel hesaplamalar icin kullanilir.\n",
    "Arrayler/cok boyutlu arrayler ve matrisler uzerinde performansli calisma imkani saglar."
   ]
  },
  {
   "cell_type": "markdown",
   "id": "6c9ebe13-5442-4dab-89c7-161288065001",
   "metadata": {},
   "source": [
    "Listelere benzerdir,farki; verimli veri saklama ve **vektorel operasyonlar**dir."
   ]
  },
  {
   "cell_type": "markdown",
   "id": "fd5c3317-73b6-47a8-b2c7-b33f191cf902",
   "metadata": {},
   "source": [
    "Neden Numpy?\n",
    "\n"
   ]
  },
  {
   "cell_type": "markdown",
   "id": "3a83d731-f49b-4384-a8e7-4f5d894bec82",
   "metadata": {},
   "source": [
    "Hucre disinda b tusuna basarsak yeni hucre ekleyebiliriz.\n",
    "hucre disindaki koseli paranteze tiklarken a ye basarsak yukari dogru hucre eklemis oluruz.\n",
    "Hucre icinde kopyalama: CTRL+C\n",
    "Hucre icinde yapistirma: CTRL+V\n",
    "Hucre icinde kesme: CTRL+X\n",
    "Hucre disinda kopyalama: C\n",
    "Hucre disinda yapistirma: V\n",
    "Hucre disinda kesme: X"
   ]
  },
  {
   "cell_type": "markdown",
   "id": "a5a6b74d-4a0f-40c4-9f36-0ab7111e1dd8",
   "metadata": {
    "tags": []
   },
   "source": [
    "# Neden Numpy"
   ]
  },
  {
   "cell_type": "markdown",
   "id": "5c723315-0379-4dc8-95f1-4b2331c30224",
   "metadata": {},
   "source": [
    "## Bu bir alt basliktir"
   ]
  },
  {
   "cell_type": "markdown",
   "id": "64084b35-f664-4f01-9f0c-3594d7331f18",
   "metadata": {},
   "source": [
    "### Bu alt basligin alt basligidir"
   ]
  },
  {
   "cell_type": "markdown",
   "id": "cd934ce4-3850-4e5f-893a-4fed886afbe2",
   "metadata": {},
   "source": [
    "En sona ne biraktiysak bize onu yazdirir:"
   ]
  },
  {
   "cell_type": "code",
   "execution_count": 1,
   "id": "aa1320e8-f29e-4f33-bc1c-098e29902856",
   "metadata": {},
   "outputs": [
    {
     "data": {
      "text/plain": [
       "[2, 3, 4, 5]"
      ]
     },
     "execution_count": 1,
     "metadata": {},
     "output_type": "execute_result"
    }
   ],
   "source": [
    "a = [1,2,3,4]\n",
    "b = [2,3,4,5]\n",
    "a\n",
    "b"
   ]
  },
  {
   "cell_type": "code",
   "execution_count": 2,
   "id": "98cfb83d-9891-4413-a8d5-c295bf2dd2a7",
   "metadata": {},
   "outputs": [
    {
     "data": {
      "text/plain": [
       "[1, 2, 3, 4]"
      ]
     },
     "execution_count": 2,
     "metadata": {},
     "output_type": "execute_result"
    }
   ],
   "source": [
    "a"
   ]
  },
  {
   "cell_type": "code",
   "execution_count": 3,
   "id": "6e2e3a24-4dd4-4d2a-96a8-e98e96bef228",
   "metadata": {},
   "outputs": [
    {
     "data": {
      "text/plain": [
       "[2, 3, 4, 5]"
      ]
     },
     "execution_count": 3,
     "metadata": {},
     "output_type": "execute_result"
    }
   ],
   "source": [
    "b"
   ]
  },
  {
   "cell_type": "markdown",
   "id": "8df3d84f-1924-419a-b27c-f8fc96710006",
   "metadata": {},
   "source": [
    "Hucreleme bize parca parca calisma imkani sunar. Parcalar uzerinde islem yapma ve bunlari gozlemleme imkani sunar."
   ]
  },
  {
   "cell_type": "markdown",
   "id": "5c28930d-37d7-4677-919d-46ef62fa39d1",
   "metadata": {},
   "source": [
    "Carpma islemi gerceklestirmek numpy ile daha kolaydir:"
   ]
  },
  {
   "cell_type": "markdown",
   "id": "f1c92b2b-2829-4339-bb86-a6338befd784",
   "metadata": {},
   "source": [
    "Onceden ogrendigimiz:"
   ]
  },
  {
   "cell_type": "code",
   "execution_count": 12,
   "id": "6d53994f-7fd0-49e0-9f55-91aa288c1e8a",
   "metadata": {},
   "outputs": [
    {
     "data": {
      "text/plain": [
       "[2, 6, 12, 20]"
      ]
     },
     "execution_count": 12,
     "metadata": {},
     "output_type": "execute_result"
    }
   ],
   "source": [
    "\n",
    "ab = []\n",
    "\n",
    "for i in range(0, len(a)):\n",
    "    ab.append(a[i]*b[i])\n",
    "ab"
   ]
  },
  {
   "cell_type": "markdown",
   "id": "f137749c-4ee9-46cd-86af-2ef9b13739d5",
   "metadata": {},
   "source": [
    "Numpy ile yapilisi:"
   ]
  },
  {
   "cell_type": "code",
   "execution_count": 13,
   "id": "a1bb68fb-5205-4d0f-b150-8a8c2db0d9ab",
   "metadata": {},
   "outputs": [],
   "source": [
    "import numpy as np"
   ]
  },
  {
   "cell_type": "code",
   "execution_count": 14,
   "id": "d6ce5c36-a829-4357-8920-1f66695bce7e",
   "metadata": {},
   "outputs": [],
   "source": [
    "a = np.array([1,2,3,4])\n",
    "b = np.array([2,3,4,5])"
   ]
  },
  {
   "cell_type": "code",
   "execution_count": 15,
   "id": "54913da4-81e4-4966-9a56-0a74981b5b62",
   "metadata": {},
   "outputs": [
    {
     "data": {
      "text/plain": [
       "array([ 2,  6, 12, 20])"
      ]
     },
     "execution_count": 15,
     "metadata": {},
     "output_type": "execute_result"
    }
   ],
   "source": [
    "a * b"
   ]
  },
  {
   "cell_type": "markdown",
   "id": "324d165d-4653-4296-b9a4-c760872c813d",
   "metadata": {},
   "source": [
    "Neden numpy sorusunun cevabi bizim icin ikidir:\n",
    "1-Optimizasyon anlaminda, yazilimsal anlamda veri saklama konusunda bir iyilestirme sunmus olmasidir.\n",
    "2-Daha analitik anlamda high level dedigimiz vektorel operasyonlar ve numerik hesaplamalar yapma imkani saglamaktadir."
   ]
  },
  {
   "cell_type": "code",
   "execution_count": null,
   "id": "a08f2a0e-49e0-42b0-80e3-6f12b7d8bb9d",
   "metadata": {},
   "outputs": [],
   "source": []
  }
 ],
 "metadata": {
  "kernelspec": {
   "display_name": "Python 3 (ipykernel)",
   "language": "python",
   "name": "python3"
  },
  "language_info": {
   "codemirror_mode": {
    "name": "ipython",
    "version": 3
   },
   "file_extension": ".py",
   "mimetype": "text/x-python",
   "name": "python",
   "nbconvert_exporter": "python",
   "pygments_lexer": "ipython3",
   "version": "3.9.7"
  }
 },
 "nbformat": 4,
 "nbformat_minor": 5
}
