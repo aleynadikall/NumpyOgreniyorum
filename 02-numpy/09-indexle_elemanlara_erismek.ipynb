{
 "cells": [
  {
   "cell_type": "markdown",
   "id": "4ab23212-bb0e-49b6-a835-8e1255066a35",
   "metadata": {
    "tags": []
   },
   "source": [
    "### Index ile elemanlara ersimek"
   ]
  },
  {
   "cell_type": "code",
   "execution_count": 1,
   "id": "2a87df44-14ce-4632-b843-b46298f2efcd",
   "metadata": {},
   "outputs": [
    {
     "data": {
      "text/plain": [
       "array([6, 1, 4, 7, 0, 7, 4, 8, 0, 5])"
      ]
     },
     "execution_count": 1,
     "metadata": {},
     "output_type": "execute_result"
    }
   ],
   "source": [
    "import numpy as np\n",
    "a = np.random.randint(10, size = 10)\n",
    "a"
   ]
  },
  {
   "cell_type": "code",
   "execution_count": 2,
   "id": "dd5e5a30-2eab-434a-a908-0c9c120e0089",
   "metadata": {},
   "outputs": [
    {
     "data": {
      "text/plain": [
       "6"
      ]
     },
     "execution_count": 2,
     "metadata": {},
     "output_type": "execute_result"
    }
   ],
   "source": [
    "a[0]"
   ]
  },
  {
   "cell_type": "code",
   "execution_count": 3,
   "id": "c7987648-3860-4bf3-b15b-721ce620b8bd",
   "metadata": {},
   "outputs": [
    {
     "data": {
      "text/plain": [
       "5"
      ]
     },
     "execution_count": 3,
     "metadata": {},
     "output_type": "execute_result"
    }
   ],
   "source": [
    "a[-1]"
   ]
  },
  {
   "cell_type": "code",
   "execution_count": 4,
   "id": "8d5fc613-865d-4ea1-b8c3-46dccdeff49f",
   "metadata": {},
   "outputs": [],
   "source": [
    "a[0] = 100"
   ]
  },
  {
   "cell_type": "code",
   "execution_count": 5,
   "id": "d0c45266-2774-4464-8cd8-fd399a6abf09",
   "metadata": {},
   "outputs": [
    {
     "data": {
      "text/plain": [
       "array([100,   1,   4,   7,   0,   7,   4,   8,   0,   5])"
      ]
     },
     "execution_count": 5,
     "metadata": {},
     "output_type": "execute_result"
    }
   ],
   "source": [
    "a"
   ]
  },
  {
   "cell_type": "code",
   "execution_count": 6,
   "id": "272e96eb-2e26-40b9-936a-33dc3d213f63",
   "metadata": {},
   "outputs": [
    {
     "data": {
      "text/plain": [
       "array([8, 6, 7, 6, 0, 1, 5, 4, 6, 4])"
      ]
     },
     "execution_count": 6,
     "metadata": {},
     "output_type": "execute_result"
    }
   ],
   "source": [
    "m = np.random.randint(10, size = 10)\n",
    "m"
   ]
  },
  {
   "cell_type": "code",
   "execution_count": 7,
   "id": "38c4a41a-3326-4a8c-8f6d-1bf5f22ab2f3",
   "metadata": {},
   "outputs": [
    {
     "data": {
      "text/plain": [
       "array([[6, 4, 4, 6, 6],\n",
       "       [1, 6, 7, 0, 5],\n",
       "       [9, 3, 1, 4, 8]])"
      ]
     },
     "execution_count": 7,
     "metadata": {},
     "output_type": "execute_result"
    }
   ],
   "source": [
    "m = np.random.randint(10, size = (3,5))\n",
    "m"
   ]
  },
  {
   "cell_type": "code",
   "execution_count": 8,
   "id": "9e57c23f-45bb-4bde-918c-a984a16c61df",
   "metadata": {},
   "outputs": [
    {
     "data": {
      "text/plain": [
       "6"
      ]
     },
     "execution_count": 8,
     "metadata": {},
     "output_type": "execute_result"
    }
   ],
   "source": [
    "m[0,0]"
   ]
  },
  {
   "cell_type": "code",
   "execution_count": 11,
   "id": "a055dd8b-3e37-43aa-8946-c26c2f4542ee",
   "metadata": {},
   "outputs": [
    {
     "data": {
      "text/plain": [
       "6"
      ]
     },
     "execution_count": 11,
     "metadata": {},
     "output_type": "execute_result"
    }
   ],
   "source": [
    "m[1,1]"
   ]
  },
  {
   "cell_type": "code",
   "execution_count": 16,
   "id": "48ad824e-5e34-482c-9b5d-03e94169f938",
   "metadata": {},
   "outputs": [],
   "source": [
    "m[2,4] = 88"
   ]
  },
  {
   "cell_type": "code",
   "execution_count": 17,
   "id": "de17c896-06a8-42e5-8c01-1d290c4b8887",
   "metadata": {},
   "outputs": [
    {
     "data": {
      "text/plain": [
       "array([[ 6,  4,  4,  6,  6],\n",
       "       [ 1,  6,  7,  0,  5],\n",
       "       [ 9,  3,  1,  4, 88]])"
      ]
     },
     "execution_count": 17,
     "metadata": {},
     "output_type": "execute_result"
    }
   ],
   "source": [
    "m"
   ]
  },
  {
   "cell_type": "markdown",
   "id": "08d4ab7a-3a32-4277-abcd-d9c7ceff96c4",
   "metadata": {},
   "source": [
    "Numpy arrayleri icin fixed type yani sabitlenmis tipli demistik. Mesela burada surekli bir degeri (ornegin float tipindeki bir degisken) bu arraye eklemeye calisalim:"
   ]
  },
  {
   "cell_type": "code",
   "execution_count": 19,
   "id": "3e134fc2-10f1-4ff5-9d22-21ad203e2dc5",
   "metadata": {},
   "outputs": [],
   "source": [
    "m[1,4] = 2.2"
   ]
  },
  {
   "cell_type": "code",
   "execution_count": 20,
   "id": "de333fa8-0ede-4b9f-8f2e-e0837865310e",
   "metadata": {},
   "outputs": [
    {
     "data": {
      "text/plain": [
       "array([[ 6,  4,  4,  6,  6],\n",
       "       [ 1,  6,  7,  0,  2],\n",
       "       [ 9,  3,  1,  4, 88]])"
      ]
     },
     "execution_count": 20,
     "metadata": {},
     "output_type": "execute_result"
    }
   ],
   "source": [
    "m"
   ]
  },
  {
   "cell_type": "markdown",
   "id": "637f5cc2-2a55-42c1-9d7c-d602aa25ee9e",
   "metadata": {},
   "source": [
    "Ondalik kismi atarak 2.2 degeri arraye eklendi. Onceki kisimlarda gordugumuz gibi array olusturulurken icerisinde 1 tane bile ondalikli sayi iceriyorsa diger sayilarda ondalikli sayi seklinde yazilirdi. Ancak ondalikli sayiyi sonradan eklersek eklenen sayinin ondalikli kismi alinmaz bir integer gibi arraye eklenir.  "
   ]
  },
  {
   "cell_type": "code",
   "execution_count": null,
   "id": "60c7a385-9f30-4b23-a866-5548d95c449a",
   "metadata": {},
   "outputs": [],
   "source": []
  }
 ],
 "metadata": {
  "kernelspec": {
   "display_name": "Python 3 (ipykernel)",
   "language": "python",
   "name": "python3"
  },
  "language_info": {
   "codemirror_mode": {
    "name": "ipython",
    "version": 3
   },
   "file_extension": ".py",
   "mimetype": "text/x-python",
   "name": "python",
   "nbconvert_exporter": "python",
   "pygments_lexer": "ipython3",
   "version": "3.9.7"
  }
 },
 "nbformat": 4,
 "nbformat_minor": 5
}
