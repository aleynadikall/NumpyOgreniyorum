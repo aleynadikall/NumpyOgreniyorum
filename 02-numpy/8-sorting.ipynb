{
 "cells": [
  {
   "cell_type": "markdown",
   "id": "66f1093b-c802-4602-ba17-125944fc7a89",
   "metadata": {},
   "source": [
    "### Array siralama (sorting)"
   ]
  },
  {
   "cell_type": "markdown",
   "id": "71576a54-55bc-4f19-a8dd-1adf4d170309",
   "metadata": {},
   "source": [
    "1-Tek boyutlu:"
   ]
  },
  {
   "cell_type": "code",
   "execution_count": 1,
   "id": "f3a88f65-03af-42bb-830a-58970d0558b7",
   "metadata": {},
   "outputs": [],
   "source": [
    "import numpy as np"
   ]
  },
  {
   "cell_type": "code",
   "execution_count": 2,
   "id": "710df9cf-326b-4d9f-990f-b00b85f25fcf",
   "metadata": {},
   "outputs": [],
   "source": [
    "v = np.array([2,1,4,3,5])"
   ]
  },
  {
   "cell_type": "code",
   "execution_count": 3,
   "id": "9513b0d1-d125-41e1-a688-040571c91e5a",
   "metadata": {},
   "outputs": [
    {
     "data": {
      "text/plain": [
       "array([2, 1, 4, 3, 5])"
      ]
     },
     "execution_count": 3,
     "metadata": {},
     "output_type": "execute_result"
    }
   ],
   "source": [
    "v"
   ]
  },
  {
   "cell_type": "code",
   "execution_count": 4,
   "id": "00b1f877-e178-44cc-ab2a-0e96efe546bf",
   "metadata": {},
   "outputs": [
    {
     "data": {
      "text/plain": [
       "array([1, 2, 3, 4, 5])"
      ]
     },
     "execution_count": 4,
     "metadata": {},
     "output_type": "execute_result"
    }
   ],
   "source": [
    "np.sort(v)"
   ]
  },
  {
   "cell_type": "code",
   "execution_count": 5,
   "id": "e22d3f2a-fdb9-4514-bb0a-f7b3fab5aa14",
   "metadata": {},
   "outputs": [
    {
     "data": {
      "text/plain": [
       "array([2, 1, 4, 3, 5])"
      ]
     },
     "execution_count": 5,
     "metadata": {},
     "output_type": "execute_result"
    }
   ],
   "source": [
    "v"
   ]
  },
  {
   "cell_type": "code",
   "execution_count": 6,
   "id": "16f1f1d3-94d2-4b17-b289-9791f4fdaf4a",
   "metadata": {},
   "outputs": [],
   "source": [
    "v.sort()"
   ]
  },
  {
   "cell_type": "code",
   "execution_count": 7,
   "id": "abf911b1-2cf1-419e-aecc-c1cdee164124",
   "metadata": {},
   "outputs": [
    {
     "data": {
      "text/plain": [
       "array([1, 2, 3, 4, 5])"
      ]
     },
     "execution_count": 7,
     "metadata": {},
     "output_type": "execute_result"
    }
   ],
   "source": [
    "v"
   ]
  },
  {
   "cell_type": "markdown",
   "id": "bb2b3d75-dd37-417f-82ec-c53a6d1cb2e0",
   "metadata": {},
   "source": [
    "Hucre 6'daki sort() metodu olumcul yan etkili metodlardan oldugundan dolayi arrayimizin yapisini komple degistirdi. Hucre 4'deki ise arrayin yapisini bozmadi cunku olsuturulan numpy uzerinden siralamayi gerceklestirdik."
   ]
  },
  {
   "cell_type": "markdown",
   "id": "489a03ff-a870-4024-88eb-286d958e2a3a",
   "metadata": {},
   "source": [
    "2-Iki boyutlu:"
   ]
  },
  {
   "cell_type": "code",
   "execution_count": 9,
   "id": "4767a2d4-933d-4014-8260-9e493c0dd8c1",
   "metadata": {},
   "outputs": [
    {
     "data": {
      "text/plain": [
       "array([[19.3082249 , 11.72381534, 20.47154031],\n",
       "       [22.35190164, 28.44154644, 20.92854005],\n",
       "       [16.92413074, 17.00459534, 22.62825306]])"
      ]
     },
     "execution_count": 9,
     "metadata": {},
     "output_type": "execute_result"
    }
   ],
   "source": [
    "np.random.normal(20,5,(3,3))"
   ]
  },
  {
   "cell_type": "code",
   "execution_count": 10,
   "id": "9a0faa82-b584-4c22-b85a-2e3f2ec25677",
   "metadata": {},
   "outputs": [],
   "source": [
    "m = np.random.normal(20,5,(3,3))"
   ]
  },
  {
   "cell_type": "code",
   "execution_count": 11,
   "id": "630aff00-2155-4137-a926-c2e86006a2fd",
   "metadata": {},
   "outputs": [
    {
     "data": {
      "text/plain": [
       "array([[20.83568021, 20.52191404, 22.88026355],\n",
       "       [22.5357136 , 27.00863431, 22.29390449],\n",
       "       [20.76306361, 23.07854603, 21.79327644]])"
      ]
     },
     "execution_count": 11,
     "metadata": {},
     "output_type": "execute_result"
    }
   ],
   "source": [
    "m"
   ]
  },
  {
   "cell_type": "markdown",
   "id": "5a3c612c-ad65-4aa1-8221-568e899f4b4d",
   "metadata": {},
   "source": [
    "Satir siralama:"
   ]
  },
  {
   "cell_type": "code",
   "execution_count": 12,
   "id": "379923fa-c2d5-4f68-ac2f-7613a4759984",
   "metadata": {},
   "outputs": [
    {
     "data": {
      "text/plain": [
       "array([[20.52191404, 20.83568021, 22.88026355],\n",
       "       [22.29390449, 22.5357136 , 27.00863431],\n",
       "       [20.76306361, 21.79327644, 23.07854603]])"
      ]
     },
     "execution_count": 12,
     "metadata": {},
     "output_type": "execute_result"
    }
   ],
   "source": [
    "np.sort(m,axis = 1)"
   ]
  },
  {
   "cell_type": "raw",
   "id": "b3f722ac-0a3c-40e4-aab1-ec6add1b4b64",
   "metadata": {},
   "source": [
    "Sutun siralama:"
   ]
  },
  {
   "cell_type": "code",
   "execution_count": 13,
   "id": "15716e4f-0abb-4f7a-a8b3-b417bf787a88",
   "metadata": {},
   "outputs": [
    {
     "data": {
      "text/plain": [
       "array([[20.76306361, 20.52191404, 21.79327644],\n",
       "       [20.83568021, 23.07854603, 22.29390449],\n",
       "       [22.5357136 , 27.00863431, 22.88026355]])"
      ]
     },
     "execution_count": 13,
     "metadata": {},
     "output_type": "execute_result"
    }
   ],
   "source": [
    "np.sort(m,axis = 0)"
   ]
  },
  {
   "cell_type": "code",
   "execution_count": null,
   "id": "4c2ea77c-ea8b-4bb4-a8cf-16719e73b88e",
   "metadata": {},
   "outputs": [],
   "source": []
  }
 ],
 "metadata": {
  "kernelspec": {
   "display_name": "Python 3 (ipykernel)",
   "language": "python",
   "name": "python3"
  },
  "language_info": {
   "codemirror_mode": {
    "name": "ipython",
    "version": 3
   },
   "file_extension": ".py",
   "mimetype": "text/x-python",
   "name": "python",
   "nbconvert_exporter": "python",
   "pygments_lexer": "ipython3",
   "version": "3.9.7"
  }
 },
 "nbformat": 4,
 "nbformat_minor": 5
}
