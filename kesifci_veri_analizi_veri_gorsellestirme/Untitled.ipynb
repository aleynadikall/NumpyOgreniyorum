{
 "cells": [
  {
   "cell_type": "markdown",
   "id": "a9643e11",
   "metadata": {},
   "source": [
    "#### Büyük Resmi Görmek ve Veriyi Temsil Etmek"
   ]
  },
  {
   "cell_type": "markdown",
   "id": "0829b9b7",
   "metadata": {},
   "source": [
    "Veri b"
   ]
  }
 ],
 "metadata": {
  "kernelspec": {
   "display_name": "Python 3 (ipykernel)",
   "language": "python",
   "name": "python3"
  },
  "language_info": {
   "codemirror_mode": {
    "name": "ipython",
    "version": 3
   },
   "file_extension": ".py",
   "mimetype": "text/x-python",
   "name": "python",
   "nbconvert_exporter": "python",
   "pygments_lexer": "ipython3",
   "version": "3.9.7"
  }
 },
 "nbformat": 4,
 "nbformat_minor": 5
}
