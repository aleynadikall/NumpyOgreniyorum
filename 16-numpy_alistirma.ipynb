{
 "cells": [
  {
   "cell_type": "markdown",
   "id": "2f892989-8900-450f-b8a7-14a3d74d9325",
   "metadata": {},
   "source": [
    "### Alıştırmalar"
   ]
  },
  {
   "cell_type": "code",
   "execution_count": 2,
   "id": "d80d2d56-f820-45ef-9bd1-d73a331bc6aa",
   "metadata": {},
   "outputs": [],
   "source": [
    "import numpy as np"
   ]
  },
  {
   "cell_type": "markdown",
   "id": "17042726-a238-4af3-be23-8835c8c1aa46",
   "metadata": {},
   "source": [
    "1- (10,15,30,45,60) değerlerine sahip numpy dizisi oluşturalım."
   ]
  },
  {
   "cell_type": "code",
   "execution_count": 3,
   "id": "0e073614-c6f0-4aa0-b0a9-3e25e87bb661",
   "metadata": {},
   "outputs": [
    {
     "name": "stdout",
     "output_type": "stream",
     "text": [
      "[10 15 30 45 60]\n"
     ]
    }
   ],
   "source": [
    "result = np.array([10,15,30,45,60])\n",
    "print(result)"
   ]
  },
  {
   "cell_type": "markdown",
   "id": "0a2a1acf-adae-49ab-91f7-189075e1685f",
   "metadata": {},
   "source": [
    "2- (5-15) arasındaki sayılarla numpy dizisi oluşturunuz."
   ]
  },
  {
   "cell_type": "code",
   "execution_count": 4,
   "id": "7bdd1888-b8be-45fc-870d-417707d220bd",
   "metadata": {},
   "outputs": [
    {
     "name": "stdout",
     "output_type": "stream",
     "text": [
      "[ 5  6  7  8  9 10 11 12 13 14]\n"
     ]
    }
   ],
   "source": [
    "result = np.arange(5,15)\n",
    "print(result)"
   ]
  },
  {
   "cell_type": "markdown",
   "id": "49c287d5-625e-48fb-bdc6-8400405cf4f1",
   "metadata": {},
   "source": [
    "3- (50-100) arasında 5'er 5'er artarak numpy dizisi oluşturunuz."
   ]
  },
  {
   "cell_type": "code",
   "execution_count": 5,
   "id": "8dde137a-fe6b-4b41-b3da-a0175e689c4e",
   "metadata": {},
   "outputs": [
    {
     "name": "stdout",
     "output_type": "stream",
     "text": [
      "[50 55 60 65 70 75 80 85 90 95]\n"
     ]
    }
   ],
   "source": [
    "result = np.arange(50,100,5)\n",
    "print(result)"
   ]
  },
  {
   "cell_type": "markdown",
   "id": "e6acd3a8-509b-4f33-a294-46e2efb74b2a",
   "metadata": {},
   "source": [
    "4- 10 elemanlı sıfırlardan oluşan bir dizi oluşturunuz."
   ]
  },
  {
   "cell_type": "code",
   "execution_count": 6,
   "id": "e5198294-4479-4969-bff4-beb23c80a7ee",
   "metadata": {},
   "outputs": [
    {
     "name": "stdout",
     "output_type": "stream",
     "text": [
      "[0. 0. 0. 0. 0. 0. 0. 0. 0. 0.]\n"
     ]
    }
   ],
   "source": [
    "result = np.zeros(10)\n",
    "print(result)"
   ]
  },
  {
   "cell_type": "markdown",
   "id": "9ba72129-1a46-41a8-aab5-d927002e0fa9",
   "metadata": {},
   "source": [
    "5- 10 elemanlı birlerden oluşan bir dizi oluşturunuz."
   ]
  },
  {
   "cell_type": "code",
   "execution_count": 7,
   "id": "8550bff6-a9da-4281-8786-8a35a51f1638",
   "metadata": {},
   "outputs": [
    {
     "name": "stdout",
     "output_type": "stream",
     "text": [
      "[1. 1. 1. 1. 1. 1. 1. 1. 1. 1.]\n"
     ]
    }
   ],
   "source": [
    "result = np.ones(10)\n",
    "print(result)"
   ]
  },
  {
   "cell_type": "markdown",
   "id": "3cefd254-be63-4f1c-9c13-f4e8725358d0",
   "metadata": {},
   "source": [
    "6- (0-100) arasında eşit aralıklı 5 sayı üretin."
   ]
  },
  {
   "cell_type": "code",
   "execution_count": 8,
   "id": "1f514f37-c0e4-4646-8883-e28886cb982e",
   "metadata": {},
   "outputs": [
    {
     "name": "stdout",
     "output_type": "stream",
     "text": [
      "[  0.  25.  50.  75. 100.]\n"
     ]
    }
   ],
   "source": [
    "result = np.linspace(0,100,5)\n",
    "print(result)"
   ]
  },
  {
   "cell_type": "markdown",
   "id": "c27d4ae1-14a9-45ab-b1a5-80556712be37",
   "metadata": {},
   "source": [
    "7- (10-30) arasında rastgele 5 tane tamsayı üretin."
   ]
  },
  {
   "cell_type": "code",
   "execution_count": 9,
   "id": "66d918a1-4446-4ce7-ad44-83d3a891f230",
   "metadata": {},
   "outputs": [
    {
     "name": "stdout",
     "output_type": "stream",
     "text": [
      "[10 14 27 22 13]\n"
     ]
    }
   ],
   "source": [
    "result = np.random.randint(10,30,5)\n",
    "print(result)"
   ]
  },
  {
   "cell_type": "markdown",
   "id": "22353679-3947-4e4e-8d7a-bb7d19e7b040",
   "metadata": {},
   "source": [
    "8- [-1 ile 1] arasında 10 adet sayı üretin."
   ]
  },
  {
   "cell_type": "code",
   "execution_count": 10,
   "id": "0fed2dd0-20a6-4128-9238-9232eaa651d1",
   "metadata": {},
   "outputs": [
    {
     "name": "stdout",
     "output_type": "stream",
     "text": [
      "[8.37625275e-01 8.99374685e-01 7.87689942e-04 8.29367251e-01\n",
      " 9.78526573e-01 4.61624852e-01 4.16986774e-01 4.34453807e-02\n",
      " 3.60245118e-02 5.57083860e-01]\n"
     ]
    }
   ],
   "source": [
    "result = np.random.rand(10)\n",
    "print(result)"
   ]
  },
  {
   "cell_type": "code",
   "execution_count": 11,
   "id": "e0d37ccf-c1b2-4d0a-9efe-9afae0bf434c",
   "metadata": {},
   "outputs": [
    {
     "name": "stdout",
     "output_type": "stream",
     "text": [
      "[ 1.02131874  0.89599084  0.22241062 -0.73945671 -1.35884972 -0.27373952\n",
      "  0.1310691   1.55071659 -0.95422824 -0.07144983]\n"
     ]
    }
   ],
   "source": [
    "result = np.random.randn(10)\n",
    "print(result)"
   ]
  },
  {
   "cell_type": "markdown",
   "id": "33d34a3f-7a2b-48ae-8cdb-b4c231073976",
   "metadata": {},
   "source": [
    "9- (3x5) boyutlarında (10-50) arasında rastgele bir matris oluşturunuz."
   ]
  },
  {
   "cell_type": "code",
   "execution_count": 12,
   "id": "ac4b7e05-3e0b-4191-8011-165f4ba1e25d",
   "metadata": {},
   "outputs": [
    {
     "name": "stdout",
     "output_type": "stream",
     "text": [
      "[15 13 13 25 27 30 49 35 20 29 12 46 36 13 32]\n"
     ]
    }
   ],
   "source": [
    "result = np.random.randint(10,50,15)\n",
    "print(result)"
   ]
  },
  {
   "cell_type": "code",
   "execution_count": 13,
   "id": "a554600b-d561-40c0-a9a2-469c8211d115",
   "metadata": {},
   "outputs": [
    {
     "name": "stdout",
     "output_type": "stream",
     "text": [
      "[[43 39 32 16 14]\n",
      " [29 20 16 45 31]\n",
      " [27 23 21 18 28]]\n"
     ]
    }
   ],
   "source": [
    "result = np.random.randint(10,50,15).reshape(3,5)\n",
    "print(result)"
   ]
  },
  {
   "cell_type": "markdown",
   "id": "416e80b3-d838-452c-8f74-fb2f2c350bad",
   "metadata": {},
   "source": [
    "10- Üretilen matrisin satır ve sütun sayıları toplamlarını hesaplayınız."
   ]
  },
  {
   "cell_type": "code",
   "execution_count": 15,
   "id": "848ae0e2-41dd-4b77-8cda-59b29e850d2d",
   "metadata": {},
   "outputs": [
    {
     "name": "stdout",
     "output_type": "stream",
     "text": [
      "[[39 31 28 40 23]\n",
      " [39 37 26 29 11]\n",
      " [22 22 47 19 30]]\n",
      "[161 142 140]\n",
      "[100  90 101  88  64]\n"
     ]
    }
   ],
   "source": [
    "matris = np.random.randint(10,50,15).reshape(3,5)\n",
    "rowTotal = matris.sum(axis = 1)\n",
    "colTotal = matris.sum(axis = 0)\n",
    "print(matris)\n",
    "print(rowTotal)\n",
    "print(colTotal)"
   ]
  },
  {
   "cell_type": "markdown",
   "id": "ceb57eef-5368-4ab4-99f4-806d1c062451",
   "metadata": {},
   "source": [
    "11- Üretilen matrisin en büyük, en küçük elemanı ve ortalaması nedir?"
   ]
  },
  {
   "cell_type": "code",
   "execution_count": 17,
   "id": "571eeebf-b90e-4c5e-9777-3e8eceae095e",
   "metadata": {},
   "outputs": [
    {
     "name": "stdout",
     "output_type": "stream",
     "text": [
      "47\n",
      "11\n",
      "29.533333333333335\n"
     ]
    }
   ],
   "source": [
    "result = matris.max()\n",
    "print(result)\n",
    "result = matris.min()\n",
    "print(result)\n",
    "result = matris.mean()\n",
    "print(result)"
   ]
  },
  {
   "cell_type": "markdown",
   "id": "ec4d7344-d41d-48b0-9619-0e508d3cafa6",
   "metadata": {},
   "source": [
    "12- Üretilen matrisin en büyük değerinin indeksi kaçtır?"
   ]
  },
  {
   "cell_type": "code",
   "execution_count": 19,
   "id": "d9576de4-0c7f-43f6-b351-02b9d098d732",
   "metadata": {},
   "outputs": [
    {
     "name": "stdout",
     "output_type": "stream",
     "text": [
      "12\n",
      "9\n"
     ]
    }
   ],
   "source": [
    "result = matris.argmax()\n",
    "print(result)\n",
    "result = matris.argmin()\n",
    "print(result)"
   ]
  },
  {
   "cell_type": "markdown",
   "id": "bfb9200e-a538-4810-882b-77340ab3084e",
   "metadata": {},
   "source": [
    "13- (10-20) arasındaki sayıları içeren dizinin ilk 3 elemanını seçiniz."
   ]
  },
  {
   "cell_type": "code",
   "execution_count": 20,
   "id": "c8b62f1f-c941-4270-abe3-698f23c41820",
   "metadata": {},
   "outputs": [
    {
     "name": "stdout",
     "output_type": "stream",
     "text": [
      "[10 11 12 13 14 15 16 17 18 19]\n",
      "[10 11 12]\n"
     ]
    }
   ],
   "source": [
    "arr = np.arange(10,20)\n",
    "print(arr)\n",
    "result = arr[:3]\n",
    "print(result)"
   ]
  },
  {
   "cell_type": "markdown",
   "id": "242cecd3-1699-40d3-bc51-3580c186ab73",
   "metadata": {},
   "source": [
    "14- Üretilen dizinin elemanlarını tersten yazdırın."
   ]
  },
  {
   "cell_type": "code",
   "execution_count": 21,
   "id": "eb890b10-812d-47b9-b983-e95674b41d67",
   "metadata": {},
   "outputs": [
    {
     "name": "stdout",
     "output_type": "stream",
     "text": [
      "[19 18 17 16 15 14 13 12 11 10]\n"
     ]
    }
   ],
   "source": [
    "result = arr[::-1]\n",
    "print(result)"
   ]
  },
  {
   "cell_type": "markdown",
   "id": "bab746be-df83-463a-bf37-d07d1461dd52",
   "metadata": {},
   "source": [
    "15- Üretilen matrisin ilk satırını seçiniz."
   ]
  },
  {
   "cell_type": "code",
   "execution_count": 22,
   "id": "af90a107-52c8-4df7-9b88-1a54ab1221ea",
   "metadata": {},
   "outputs": [
    {
     "name": "stdout",
     "output_type": "stream",
     "text": [
      "[39 31 28 40 23]\n"
     ]
    }
   ],
   "source": [
    "result = matris[0]\n",
    "print(result)"
   ]
  },
  {
   "cell_type": "markdown",
   "id": "b0d90b03-15be-4233-9c4f-6b4c4e860275",
   "metadata": {},
   "source": [
    "16- Üretilen matrisin 2.satır ve 3.sütunundaki elemanı hangisidir?"
   ]
  },
  {
   "cell_type": "code",
   "execution_count": 23,
   "id": "e3eeedcc-b4f2-4cf2-86b5-34d820dfa4e4",
   "metadata": {},
   "outputs": [
    {
     "name": "stdout",
     "output_type": "stream",
     "text": [
      "26\n"
     ]
    }
   ],
   "source": [
    "result = matris[1,2]\n",
    "print(result)"
   ]
  },
  {
   "cell_type": "markdown",
   "id": "261fca93-c392-4dae-998e-1e7f046c7d78",
   "metadata": {},
   "source": [
    "17- Üretilen matrisin tüm satırlardaki ilk elemanını seçiniz."
   ]
  },
  {
   "cell_type": "code",
   "execution_count": 24,
   "id": "3b0caefb-e61a-40f4-af8f-6fb230c61db2",
   "metadata": {},
   "outputs": [
    {
     "name": "stdout",
     "output_type": "stream",
     "text": [
      "[39 39 22]\n"
     ]
    }
   ],
   "source": [
    "result = matris[:,0]\n",
    "print(result)"
   ]
  },
  {
   "cell_type": "markdown",
   "id": "0b8c7459-0329-4e23-b3b2-8463462d612c",
   "metadata": {},
   "source": [
    "18- Üretilen matrisin her bir elemanının karesini alınız."
   ]
  },
  {
   "cell_type": "code",
   "execution_count": 25,
   "id": "2cf54225-08ca-462a-b195-260ec980da90",
   "metadata": {},
   "outputs": [
    {
     "name": "stdout",
     "output_type": "stream",
     "text": [
      "[[1521  961  784 1600  529]\n",
      " [1521 1369  676  841  121]\n",
      " [ 484  484 2209  361  900]]\n"
     ]
    }
   ],
   "source": [
    "result = matris ** 2\n",
    "print(result)"
   ]
  },
  {
   "cell_type": "markdown",
   "id": "4afcdbb7-a041-4cab-bf2d-a1954fea32c2",
   "metadata": {},
   "source": [
    "19- Üretilen matris elemanlarının hangisi pozitif çift sayıdır? Aralığı (-50,+50) arasında yapınız."
   ]
  },
  {
   "cell_type": "code",
   "execution_count": 26,
   "id": "d681b1be-4cba-4c60-b2a7-e91c781c049b",
   "metadata": {},
   "outputs": [
    {
     "name": "stdout",
     "output_type": "stream",
     "text": [
      "[[False False  True  True False]\n",
      " [False False  True False False]\n",
      " [ True  True False False  True]]\n",
      "[28 40 26 22 22 30]\n",
      "[ True  True  True  True  True  True]\n",
      "[28 40 26 22 22 30]\n"
     ]
    }
   ],
   "source": [
    "result = matris % 2 == 0\n",
    "print(result)\n",
    "result = matris[matris % 2 == 0]\n",
    "print(result)\n",
    "ciftler = matris[matris % 2 == 0]\n",
    "result = ciftler > 0\n",
    "print(result)\n",
    "result = ciftler[ciftler > 0]\n",
    "print(result)"
   ]
  },
  {
   "cell_type": "code",
   "execution_count": null,
   "id": "7cbbfbd1-57f7-4c10-bc18-f0c15e3ce496",
   "metadata": {},
   "outputs": [],
   "source": []
  }
 ],
 "metadata": {
  "kernelspec": {
   "display_name": "Python 3 (ipykernel)",
   "language": "python",
   "name": "python3"
  },
  "language_info": {
   "codemirror_mode": {
    "name": "ipython",
    "version": 3
   },
   "file_extension": ".py",
   "mimetype": "text/x-python",
   "name": "python",
   "nbconvert_exporter": "python",
   "pygments_lexer": "ipython3",
   "version": "3.9.7"
  }
 },
 "nbformat": 4,
 "nbformat_minor": 5
}
