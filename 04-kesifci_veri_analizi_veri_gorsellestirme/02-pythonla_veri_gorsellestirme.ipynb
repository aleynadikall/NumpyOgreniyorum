{
 "cells": [
  {
   "cell_type": "markdown",
   "id": "005567ec",
   "metadata": {},
   "source": [
    "#### Veri Görselleştirme Kütüphaneleri\n",
    "* Matplotlib\n",
    "* Pandas (Matplotlib üzerine inşa edilmiştir.)\n",
    "* Seaborn (High-Level-Interface, biz bu kütüphane ile çalışacağız.)\n",
    "* ggplot\n",
    "* Bokeh (Matplotlib üzerine kurulu değildir.)\n",
    "* Plot.ly\n"
   ]
  }
 ],
 "metadata": {
  "kernelspec": {
   "display_name": "Python 3 (ipykernel)",
   "language": "python",
   "name": "python3"
  },
  "language_info": {
   "codemirror_mode": {
    "name": "ipython",
    "version": 3
   },
   "file_extension": ".py",
   "mimetype": "text/x-python",
   "name": "python",
   "nbconvert_exporter": "python",
   "pygments_lexer": "ipython3",
   "version": "3.9.7"
  }
 },
 "nbformat": 4,
 "nbformat_minor": 5
}
