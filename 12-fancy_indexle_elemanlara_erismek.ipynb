{
 "cells": [
  {
   "cell_type": "markdown",
   "id": "670be5ae-b1a5-4ea9-8dc7-15b4d1bd396e",
   "metadata": {},
   "source": [
    "### Fancy index ile elemanlara erismek"
   ]
  },
  {
   "cell_type": "code",
   "execution_count": 1,
   "id": "aa97f337-c58f-44d5-b57f-b9f1785ae8a5",
   "metadata": {},
   "outputs": [
    {
     "data": {
      "text/plain": [
       "array([ 0,  3,  6,  9, 12, 15, 18, 21, 24, 27])"
      ]
     },
     "execution_count": 1,
     "metadata": {},
     "output_type": "execute_result"
    }
   ],
   "source": [
    "import numpy as np\n",
    "v= np.arange(0,30,3)\n",
    "v"
   ]
  },
  {
   "cell_type": "markdown",
   "id": "44db77f1-66a5-485f-b32c-a115c5611e42",
   "metadata": {},
   "source": [
    "Fancy kelime anlami itibariyle fantastik, buyuleyici gibi anlamlara gelmektedir. Bize hem ileride gorecek oldugumuz pandas dataframe'lerinde hem de numpy arraylerinde daha ileri duzey eleman secme imkanlari vermektedir. Daha ileri duzeyde eleman secmemize olanak saglayacak."
   ]
  },
  {
   "cell_type": "code",
   "execution_count": 2,
   "id": "fd15e00c-f25e-410f-94b2-2703f3fc6152",
   "metadata": {},
   "outputs": [
    {
     "data": {
      "text/plain": [
       "3"
      ]
     },
     "execution_count": 2,
     "metadata": {},
     "output_type": "execute_result"
    }
   ],
   "source": [
    "v[1]"
   ]
  },
  {
   "cell_type": "code",
   "execution_count": null,
   "id": "17fa5753-9332-4adb-92d5-e96ff704ab3d",
   "metadata": {},
   "outputs": [
    {
     "data": {
      "text/plain": [
       "9"
      ]
     },
     "execution_count": 3,
     "metadata": {},
     "output_type": "execute_result"
    }
   ],
   "source": [
    "v[3]"
   ]
  },
  {
   "cell_type": "code",
   "execution_count": 4,
   "id": "93b24fe3-5d9a-45be-b60c-dbf09a34e76f",
   "metadata": {},
   "outputs": [
    {
     "data": {
      "text/plain": [
       "15"
      ]
     },
     "execution_count": 4,
     "metadata": {},
     "output_type": "execute_result"
    }
   ],
   "source": [
    "v[5]"
   ]
  },
  {
   "cell_type": "code",
   "execution_count": 5,
   "id": "90bbdb6b-5ce0-461a-bb99-30cb0f077cde",
   "metadata": {},
   "outputs": [
    {
     "data": {
      "text/plain": [
       "[3, 9, 15]"
      ]
     },
     "execution_count": 5,
     "metadata": {},
     "output_type": "execute_result"
    }
   ],
   "source": [
    "[v[1], v[3], v[5]]"
   ]
  },
  {
   "cell_type": "markdown",
   "id": "413f1d00-b025-4c18-8da3-d7530f1129dc",
   "metadata": {},
   "source": [
    "Tek Boyutta Fancy Index:"
   ]
  },
  {
   "cell_type": "code",
   "execution_count": 6,
   "id": "0e0e6000-4d86-4c47-819a-32ad0dbd9407",
   "metadata": {},
   "outputs": [],
   "source": [
    "al_getir = [1,3,5]"
   ]
  },
  {
   "cell_type": "code",
   "execution_count": 7,
   "id": "61bbee18-d497-4b86-a398-e21346b96b1b",
   "metadata": {},
   "outputs": [
    {
     "data": {
      "text/plain": [
       "array([ 3,  9, 15])"
      ]
     },
     "execution_count": 7,
     "metadata": {},
     "output_type": "execute_result"
    }
   ],
   "source": [
    "v[al_getir]"
   ]
  },
  {
   "cell_type": "markdown",
   "id": "de1c3c85-5b91-4378-b9d5-872b83b57e25",
   "metadata": {},
   "source": [
    "Iki Boyutta Fancy Index:"
   ]
  },
  {
   "cell_type": "code",
   "execution_count": 8,
   "id": "ba8c1134-3848-43ca-b61b-3119bc74c500",
   "metadata": {},
   "outputs": [],
   "source": [
    "m = np.arange(9).reshape((3,3))"
   ]
  },
  {
   "cell_type": "code",
   "execution_count": 9,
   "id": "0a0a9618-c5f1-43a2-b509-93566008ef75",
   "metadata": {},
   "outputs": [
    {
     "data": {
      "text/plain": [
       "array([[0, 1, 2],\n",
       "       [3, 4, 5],\n",
       "       [6, 7, 8]])"
      ]
     },
     "execution_count": 9,
     "metadata": {},
     "output_type": "execute_result"
    }
   ],
   "source": [
    "m"
   ]
  },
  {
   "cell_type": "code",
   "execution_count": 10,
   "id": "4b388e6d-de6c-429b-b656-edb55ece47c1",
   "metadata": {},
   "outputs": [],
   "source": [
    "satir = np.array([0,1])\n",
    "sutun = np.array([1,2])"
   ]
  },
  {
   "cell_type": "code",
   "execution_count": 11,
   "id": "b76dffd0-77f5-4fba-9667-343532947e96",
   "metadata": {},
   "outputs": [
    {
     "data": {
      "text/plain": [
       "array([1, 5])"
      ]
     },
     "execution_count": 11,
     "metadata": {},
     "output_type": "execute_result"
    }
   ],
   "source": [
    "m[satir,sutun]"
   ]
  },
  {
   "cell_type": "markdown",
   "id": "24e3440e-cfd7-4676-8535-805e8c638706",
   "metadata": {},
   "source": [
    "Basit index ile fancy index"
   ]
  },
  {
   "cell_type": "code",
   "execution_count": 12,
   "id": "1976df26-0d38-4069-9061-fd47457de6b0",
   "metadata": {},
   "outputs": [
    {
     "data": {
      "text/plain": [
       "array([1, 2])"
      ]
     },
     "execution_count": 12,
     "metadata": {},
     "output_type": "execute_result"
    }
   ],
   "source": [
    "m[0, [1,2]]"
   ]
  },
  {
   "cell_type": "markdown",
   "id": "c7191d81-6ad9-46ba-aeb3-a5e6ab31c116",
   "metadata": {},
   "source": [
    "Slice ile fancy:"
   ]
  },
  {
   "cell_type": "code",
   "execution_count": 13,
   "id": "d3418352-06d7-497c-800d-b5088cb598cd",
   "metadata": {},
   "outputs": [
    {
     "data": {
      "text/plain": [
       "array([[1, 2],\n",
       "       [4, 5],\n",
       "       [7, 8]])"
      ]
     },
     "execution_count": 13,
     "metadata": {},
     "output_type": "execute_result"
    }
   ],
   "source": [
    "m[0:,[1,2]]"
   ]
  },
  {
   "cell_type": "code",
   "execution_count": null,
   "id": "186336a0-68f0-4a2b-b796-10a0a36d38ae",
   "metadata": {},
   "outputs": [],
   "source": []
  },
  {
   "cell_type": "code",
   "execution_count": null,
   "id": "826d81aa-34ff-492a-8beb-8ea076bddc24",
   "metadata": {},
   "outputs": [],
   "source": []
  }
 ],
 "metadata": {
  "kernelspec": {
   "display_name": "Python 3 (ipykernel)",
   "language": "python",
   "name": "python3"
  },
  "language_info": {
   "codemirror_mode": {
    "name": "ipython",
    "version": 3
   },
   "file_extension": ".py",
   "mimetype": "text/x-python",
   "name": "python",
   "nbconvert_exporter": "python",
   "pygments_lexer": "ipython3",
   "version": "3.9.7"
  }
 },
 "nbformat": 4,
 "nbformat_minor": 5
}
