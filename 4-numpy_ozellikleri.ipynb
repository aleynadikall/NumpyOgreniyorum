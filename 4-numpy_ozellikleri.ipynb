{
 "cells": [
  {
   "cell_type": "markdown",
   "id": "0b11c16d-c4da-4c68-a4a6-6ac0b226c9a0",
   "metadata": {},
   "source": [
    "### Ozellikleri"
   ]
  },
  {
   "cell_type": "markdown",
   "id": "1eeaba4d-fd2b-4c7f-ae6a-1cb9d438d6de",
   "metadata": {},
   "source": [
    "* **ndim:** boyut sayisi\n",
    "* **shape:** boyut bilgisi\n",
    "* **size:** toplam eleman sayisi\n",
    "* **dtype:** array veri tipi"
   ]
  },
  {
   "cell_type": "code",
   "execution_count": 1,
   "id": "3fa4a848-5f9b-46f9-a14b-4f6ce71d8fa4",
   "metadata": {},
   "outputs": [],
   "source": [
    "import numpy as np"
   ]
  },
  {
   "cell_type": "code",
   "execution_count": 2,
   "id": "09517d42-9408-41e4-bb76-da31d4f770cc",
   "metadata": {},
   "outputs": [
    {
     "data": {
      "text/plain": [
       "array([4, 6, 9, 3, 2, 0, 8, 7, 9, 7])"
      ]
     },
     "execution_count": 2,
     "metadata": {},
     "output_type": "execute_result"
    }
   ],
   "source": [
    "np.random.randint(10, size = 10)"
   ]
  },
  {
   "cell_type": "code",
   "execution_count": 3,
   "id": "6c9778cb-f1da-4016-b342-598ca05059d8",
   "metadata": {},
   "outputs": [],
   "source": [
    "a = np.random.randint(10, size = 10)"
   ]
  },
  {
   "cell_type": "code",
   "execution_count": 4,
   "id": "202ed58b-3b39-4d13-a710-d0b2faf552f7",
   "metadata": {},
   "outputs": [
    {
     "data": {
      "text/plain": [
       "1"
      ]
     },
     "execution_count": 4,
     "metadata": {},
     "output_type": "execute_result"
    }
   ],
   "source": [
    "a.ndim"
   ]
  },
  {
   "cell_type": "code",
   "execution_count": 5,
   "id": "e5a5e048-edd4-4e17-8ec1-dfe3a9f14ab0",
   "metadata": {},
   "outputs": [
    {
     "data": {
      "text/plain": [
       "(10,)"
      ]
     },
     "execution_count": 5,
     "metadata": {},
     "output_type": "execute_result"
    }
   ],
   "source": [
    "a.shape"
   ]
  },
  {
   "cell_type": "code",
   "execution_count": 6,
   "id": "9077f198-2b93-400d-8354-450bb6cde55e",
   "metadata": {},
   "outputs": [
    {
     "data": {
      "text/plain": [
       "10"
      ]
     },
     "execution_count": 6,
     "metadata": {},
     "output_type": "execute_result"
    }
   ],
   "source": [
    "a.size"
   ]
  },
  {
   "cell_type": "code",
   "execution_count": 7,
   "id": "45d571fb-7004-4ea7-a825-b88813636ab9",
   "metadata": {},
   "outputs": [
    {
     "data": {
      "text/plain": [
       "dtype('int32')"
      ]
     },
     "execution_count": 7,
     "metadata": {},
     "output_type": "execute_result"
    }
   ],
   "source": [
    "a.dtype"
   ]
  },
  {
   "cell_type": "code",
   "execution_count": 8,
   "id": "699ac913-e5b6-4934-8706-7de59119cfaa",
   "metadata": {},
   "outputs": [],
   "source": [
    "b = np.random.randint(10,size = (3,5))"
   ]
  },
  {
   "cell_type": "code",
   "execution_count": 9,
   "id": "224e707f-78c9-49b7-83df-76ae648a3a6c",
   "metadata": {},
   "outputs": [
    {
     "data": {
      "text/plain": [
       "array([[7, 1, 7, 8, 7],\n",
       "       [7, 8, 1, 4, 8],\n",
       "       [4, 8, 8, 5, 0]])"
      ]
     },
     "execution_count": 9,
     "metadata": {},
     "output_type": "execute_result"
    }
   ],
   "source": [
    "b"
   ]
  },
  {
   "cell_type": "code",
   "execution_count": 10,
   "id": "445616dd-ce38-4287-b74d-afc2b6ee3ef9",
   "metadata": {},
   "outputs": [
    {
     "data": {
      "text/plain": [
       "2"
      ]
     },
     "execution_count": 10,
     "metadata": {},
     "output_type": "execute_result"
    }
   ],
   "source": [
    "b.ndim"
   ]
  },
  {
   "cell_type": "code",
   "execution_count": 11,
   "id": "b47e1ca2-9c0f-4eab-b219-3b8646e012b7",
   "metadata": {},
   "outputs": [
    {
     "data": {
      "text/plain": [
       "(3, 5)"
      ]
     },
     "execution_count": 11,
     "metadata": {},
     "output_type": "execute_result"
    }
   ],
   "source": [
    "b.shape"
   ]
  },
  {
   "cell_type": "code",
   "execution_count": 12,
   "id": "480f94f1-3b4d-4978-9b8f-d833b84b7e04",
   "metadata": {},
   "outputs": [
    {
     "data": {
      "text/plain": [
       "15"
      ]
     },
     "execution_count": 12,
     "metadata": {},
     "output_type": "execute_result"
    }
   ],
   "source": [
    "b.size"
   ]
  },
  {
   "cell_type": "code",
   "execution_count": 13,
   "id": "61edce48-943c-4994-a6dd-f373ecd3a44b",
   "metadata": {},
   "outputs": [
    {
     "data": {
      "text/plain": [
       "dtype('int32')"
      ]
     },
     "execution_count": 13,
     "metadata": {},
     "output_type": "execute_result"
    }
   ],
   "source": [
    "b.dtype"
   ]
  },
  {
   "cell_type": "code",
   "execution_count": null,
   "id": "756fa53d-9aa2-45a5-9e3e-8d53aabc2487",
   "metadata": {},
   "outputs": [],
   "source": []
  }
 ],
 "metadata": {
  "kernelspec": {
   "display_name": "Python 3 (ipykernel)",
   "language": "python",
   "name": "python3"
  },
  "language_info": {
   "codemirror_mode": {
    "name": "ipython",
    "version": 3
   },
   "file_extension": ".py",
   "mimetype": "text/x-python",
   "name": "python",
   "nbconvert_exporter": "python",
   "pygments_lexer": "ipython3",
   "version": "3.9.7"
  }
 },
 "nbformat": 4,
 "nbformat_minor": 5
}
